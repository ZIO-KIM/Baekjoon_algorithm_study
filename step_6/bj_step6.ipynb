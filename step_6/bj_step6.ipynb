{
 "cells": [
  {
   "cell_type": "code",
   "execution_count": null,
   "metadata": {},
   "outputs": [],
   "source": [
    "# 6-1 (C99로도 품)\n",
    "char = input()\n",
    "print(ord(char))"
   ]
  },
  {
   "cell_type": "code",
   "execution_count": null,
   "metadata": {},
   "outputs": [],
   "source": [
    "# 6-2\n",
    "total_num = int(input())\n",
    "raw_seq = \"\"\n",
    "\n",
    "while len(raw_seq) < total_num:\n",
    "    raw_seq = input()\n",
    "    sum = 0\n",
    "    for seq in raw_seq:\n",
    "        sum += int(seq)\n",
    "    print(sum)"
   ]
  },
  {
   "cell_type": "code",
   "execution_count": null,
   "metadata": {},
   "outputs": [],
   "source": [
    "# 6-3\n",
    "string = input()\n",
    "string.lower()\n",
    "\n",
    "alphabet = \"abcdefghijklmnopqrstuvwxyz\"\n",
    "char_list = [-1 for char in range(26)]\n",
    "\n",
    "for char in string:\n",
    "    char_list[alphabet.index(char)] = string.index(char)\n",
    "\n",
    "result = ' '.join(map(str, char_list))  # 리스트를 문자열로 바꿔야 한다.\n",
    "print(result)\n"
   ]
  },
  {
   "cell_type": "code",
   "execution_count": 3,
   "metadata": {},
   "outputs": [
    {
     "name": "stdout",
     "output_type": "stream",
     "text": [
      "AAABBBCCC\n",
      "/////HHHHHTTTTTPPPPP\n"
     ]
    }
   ],
   "source": [
    "# 6-4\n",
    "test_num = int(input())\n",
    "n = 0\n",
    "\n",
    "while n < test_num:\n",
    "    num, chars = input().split()\n",
    "    num = int(num)\n",
    "    res = \"\"\n",
    "    \n",
    "    for char in chars:\n",
    "        res += num * char\n",
    "    n += 1\n",
    "    print(res)"
   ]
  },
  {
   "cell_type": "code",
   "execution_count": 5,
   "metadata": {},
   "outputs": [
    {
     "data": {
      "text/plain": [
       "'D'"
      ]
     },
     "execution_count": 5,
     "metadata": {},
     "output_type": "execute_result"
    }
   ],
   "source": [
    "# 6-5\n",
    "words = input().upper()\n",
    "# {key: item} - key에 alphabet, item에 등장한 횟수\n",
    "# item 중 가장 큰 값의 key 출력\n",
    "# 같은 item 값이면 ? 출력"
   ]
  },
  {
   "cell_type": "code",
   "execution_count": null,
   "metadata": {},
   "outputs": [],
   "source": []
  }
 ],
 "metadata": {
  "kernelspec": {
   "display_name": "Python 3.9.13 ('base')",
   "language": "python",
   "name": "python3"
  },
  "language_info": {
   "codemirror_mode": {
    "name": "ipython",
    "version": 3
   },
   "file_extension": ".py",
   "mimetype": "text/x-python",
   "name": "python",
   "nbconvert_exporter": "python",
   "pygments_lexer": "ipython3",
   "version": "3.9.13"
  },
  "orig_nbformat": 4,
  "vscode": {
   "interpreter": {
    "hash": "40d3a090f54c6569ab1632332b64b2c03c39dcf918b08424e98f38b5ae0af88f"
   }
  }
 },
 "nbformat": 4,
 "nbformat_minor": 2
}
