{
 "cells": [
  {
   "cell_type": "markdown",
   "metadata": {},
   "source": [
    "1978 - 소수 찾기    \n",
    "https://www.acmicpc.net/problem/1978"
   ]
  },
  {
   "cell_type": "code",
   "execution_count": null,
   "metadata": {},
   "outputs": [],
   "source": []
  }
 ],
 "metadata": {
  "kernelspec": {
   "display_name": "Python 3.9.7 ('base')",
   "language": "python",
   "name": "python3"
  },
  "language_info": {
   "codemirror_mode": {
    "name": "ipython",
    "version": 3
   },
   "file_extension": ".py",
   "mimetype": "text/x-python",
   "name": "python",
   "nbconvert_exporter": "python",
   "pygments_lexer": "ipython3",
   "version": "3.9.7"
  },
  "orig_nbformat": 4,
  "vscode": {
   "interpreter": {
    "hash": "14a7cf40bfc4b4e571fa22138a725e6ee1c2a57223c645d16919f5c43de60f3f"
   }
  }
 },
 "nbformat": 4,
 "nbformat_minor": 2
}
