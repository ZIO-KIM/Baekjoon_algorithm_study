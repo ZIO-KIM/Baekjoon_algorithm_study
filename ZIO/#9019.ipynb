{
 "cells": [
  {
   "cell_type": "code",
   "execution_count": 29,
   "metadata": {},
   "outputs": [],
   "source": [
    "# 9019 - DSLR"
   ]
  },
  {
   "cell_type": "code",
   "execution_count": 37,
   "metadata": {},
   "outputs": [
    {
     "data": {
      "text/plain": [
       "10"
      ]
     },
     "execution_count": 37,
     "metadata": {},
     "output_type": "execute_result"
    }
   ],
   "source": [
    "def D(n):\n",
    "    return 2*n % 10000\n",
    "\n",
    "def S(n): \n",
    "    if n == 0: \n",
    "        return 9999\n",
    "    else: \n",
    "        return n - 1\n",
    "    \n",
    "def L(n): \n",
    "    d = []\n",
    "    while n != 0: # 자리수대로 잘라서 리스트에 넣기\n",
    "        d.append(n % 10)\n",
    "        n = n // 10\n",
    "    d.reverse() \n",
    "\n",
    "    d_rotated = [0] * len(d)\n",
    "    for i in range(len(d)): \n",
    "        if i == 0: \n",
    "            d_rotated[len(d) - 1] = d[i]\n",
    "        else: \n",
    "            d_rotated[i-1] = d[i]\n",
    "\n",
    "    result = 0\n",
    "    k = 1\n",
    "    for i in range(len(d_rotated) - 1, -1, -1):\n",
    "        result += d_rotated[i] * k\n",
    "        k = k * 10\n",
    "\n",
    "    return result\n",
    "\n",
    "def R(n): \n",
    "    d = []\n",
    "    while n != 0: # 자리수대로 잘라서 리스트에 넣기\n",
    "        d.append(n % 10)\n",
    "        n = n // 10\n",
    "    d.reverse() \n",
    "\n",
    "    d_rotated = [0] * len(d)\n",
    "    for i in range(len(d)): \n",
    "        if i == (len(d) - 1): \n",
    "            d_rotated[0] = d[len(d) - 1]\n",
    "        else: \n",
    "            d_rotated[i+1] = d[i]\n",
    "\n",
    "    result = 0\n",
    "    k = 1\n",
    "    for i in range(len(d_rotated) - 1, -1, -1): \n",
    "        result += d_rotated[i] * k\n",
    "        k = k * 10\n",
    "        \n",
    "    return result\n",
    "\n",
    "T = int(input())\n",
    "for i in range(T): \n",
    "    A, B = input().split()"
   ]
  }
 ],
 "metadata": {
  "kernelspec": {
   "display_name": "Python 3.9.7 ('base')",
   "language": "python",
   "name": "python3"
  },
  "language_info": {
   "codemirror_mode": {
    "name": "ipython",
    "version": 3
   },
   "file_extension": ".py",
   "mimetype": "text/x-python",
   "name": "python",
   "nbconvert_exporter": "python",
   "pygments_lexer": "ipython3",
   "version": "3.9.7"
  },
  "orig_nbformat": 4,
  "vscode": {
   "interpreter": {
    "hash": "14a7cf40bfc4b4e571fa22138a725e6ee1c2a57223c645d16919f5c43de60f3f"
   }
  }
 },
 "nbformat": 4,
 "nbformat_minor": 2
}
