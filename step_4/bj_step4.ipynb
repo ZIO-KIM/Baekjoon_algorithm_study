{
 "cells": [
  {
   "cell_type": "code",
   "execution_count": null,
   "metadata": {},
   "outputs": [],
   "source": [
    "# 4-1\n",
    "length_list = input()\n",
    "num_list_input = map(int, input().split())\n",
    "num_list = list(num_list_input)\n",
    "sorted_list = sorted(num_list)\n",
    "print(sorted_list[0], sorted_list[-1], sep=' ')"
   ]
  },
  {
   "cell_type": "code",
   "execution_count": null,
   "metadata": {},
   "outputs": [],
   "source": [
    "# 4-2 ★\n",
    "num_list = []\n",
    "\n",
    "for i in range(9):\n",
    "    i = int(input())\n",
    "    num_list.append(i)\n",
    "\n",
    "print(max(num_list))\n",
    "print(num_list.index(max(num_list)) + 1)"
   ]
  },
  {
   "cell_type": "code",
   "execution_count": null,
   "metadata": {},
   "outputs": [],
   "source": [
    "# 4-3\n",
    "num_set = set()\n",
    "\n",
    "for i in range(10):\n",
    "    i = int(input()) % 42\n",
    "    num_set.add(i)\n",
    "\n",
    "print(len(num_set))"
   ]
  },
  {
   "cell_type": "code",
   "execution_count": null,
   "metadata": {},
   "outputs": [],
   "source": [
    "# 4-4\n",
    "subjects = int(input())\n",
    "scores = list(map(int, input().split()))\n",
    "new_scores = []\n",
    "new_sum = 0\n",
    "\n",
    "for i in range(subjects):\n",
    "    new_score = ((scores[i] / max(scores)) * 100)\n",
    "    new_scores.append(new_score)\n",
    "\n",
    "for j in range(subjects):\n",
    "    new_sum += new_scores[j]\n",
    "\n",
    "new_avg = new_sum / subjects\n",
    "print(new_avg)"
   ]
  },
  {
   "cell_type": "code",
   "execution_count": null,
   "metadata": {},
   "outputs": [],
   "source": [
    "# 4-5\n",
    "total_case = int(input())\n",
    "n = 0\n",
    "\n",
    "while n < total_case:\n",
    "    count = 0\n",
    "    raw_strings = input()\n",
    "    splited_strings = raw_strings.split('X')\n",
    "\n",
    "    while '' in splited_strings:\n",
    "        splited_strings.remove('')\n",
    "\n",
    "    for string in splited_strings:\n",
    "        for i in range(1, len(string) + 1):\n",
    "            count += i\n",
    "    n += 1\n",
    "    print(count)"
   ]
  },
  {
   "cell_type": "code",
   "execution_count": null,
   "metadata": {},
   "outputs": [],
   "source": [
    "# 4-6\n",
    "total_case = int(input())\n",
    "n = 0\n",
    "while n < total_case:\n",
    "    sum = 0\n",
    "    count = 0\n",
    "    avg = 0\n",
    "    over_avg = 0\n",
    "    \n",
    "    students_scores = list(map(int, input().split()))\n",
    "    \n",
    "    for score in students_scores[1:]:\n",
    "        sum += score\n",
    "        avg = sum / students_scores[0]\n",
    "\n",
    "    for disc_score in students_scores[1:]:\n",
    "        if disc_score > avg:\n",
    "            count += 1\n",
    "    over_avg = (count / students_scores[0]) * 100\n",
    "    print(f'{over_avg:.3f}%')\n",
    "    n += 1"
   ]
  },
  {
   "cell_type": "code",
   "execution_count": null,
   "metadata": {},
   "outputs": [],
   "source": []
  }
 ],
 "metadata": {
  "kernelspec": {
   "display_name": "Python 3.9.13 ('base')",
   "language": "python",
   "name": "python3"
  },
  "language_info": {
   "codemirror_mode": {
    "name": "ipython",
    "version": 3
   },
   "file_extension": ".py",
   "mimetype": "text/x-python",
   "name": "python",
   "nbconvert_exporter": "python",
   "pygments_lexer": "ipython3",
   "version": "3.9.13"
  },
  "orig_nbformat": 4,
  "vscode": {
   "interpreter": {
    "hash": "40d3a090f54c6569ab1632332b64b2c03c39dcf918b08424e98f38b5ae0af88f"
   }
  }
 },
 "nbformat": 4,
 "nbformat_minor": 2
}
