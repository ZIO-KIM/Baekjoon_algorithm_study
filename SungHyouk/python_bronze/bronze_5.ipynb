{
 "cells": [
  {
   "cell_type": "code",
   "execution_count": null,
   "metadata": {},
   "outputs": [],
   "source": [
    "# No - 1271\n",
    "total, nums = map(int, input().split())\n",
    "per_person = total // nums\n",
    "remain = total % nums\n",
    "print(per_person)\n",
    "print(remain)"
   ]
  },
  {
   "cell_type": "code",
   "execution_count": null,
   "metadata": {},
   "outputs": [],
   "source": [
    "# No - 2338\n",
    "a = int(input())\n",
    "b = int(input())\n",
    "\n",
    "print(a+b)\n",
    "print(a-b)\n",
    "print(a*b)"
   ]
  },
  {
   "cell_type": "code",
   "execution_count": null,
   "metadata": {},
   "outputs": [],
   "source": [
    "# No - 2558\n",
    "a = int(input())\n",
    "b = int(input())\n",
    "\n",
    "print(a+b)"
   ]
  },
  {
   "cell_type": "code",
   "execution_count": null,
   "metadata": {},
   "outputs": [],
   "source": [
    "# No - 3733\n",
    "'''\n",
    "번역)\n",
    "N명의 사람과 ACM 심사위원장이 S개의 주식을 똑같이 분배합니다. (모두 분배할 필요는 없습니다.) \n",
    "x는 각 사람이 받는 주식의 수입니다. (x는 정수여야 합니다.) x의 최댓값을 계산합시다.\n",
    "\n",
    "입력 파일에서 정수 쌍을 읽는 프로그램을 작성합시다. \n",
    "각 쌍의 값은 순서대로 1 <= N <= 10000과 1 <= S <= 10**9입니다. \n",
    "항상 정당한 값이 들어오는 입력은 공백으로 나누어져 있으며 EOF로 종료됩니다. \n",
    "프로그램은 각 숫자 쌍에 대해 x의 최댓값을 계산한 후, \n",
    "아래 예시와 같이 표준 출력 줄 시작에 그 값을 출력합니다.\n",
    "'''\n",
    "while True:\n",
    "    try:\n",
    "        N, S = map(int, input().split())\n",
    "        print(S//(N+1))\n",
    "    except EOFError:\n",
    "        break"
   ]
  },
  {
   "cell_type": "code",
   "execution_count": null,
   "metadata": {},
   "outputs": [],
   "source": [
    "# No - 4101\n",
    "\n",
    "while True:\n",
    "    a, b = map(int, input().split())\n",
    "    if a == 0 and b == 0:\n",
    "        break\n",
    "    if a > b:\n",
    "        print(\"Yes\")\n",
    "    elif a <= b:\n",
    "        print(\"No\")"
   ]
  },
  {
   "cell_type": "code",
   "execution_count": null,
   "metadata": {},
   "outputs": [],
   "source": [
    "# No - 25314\n",
    "long = int(input())\n",
    "\n",
    "if long % 4 == 0:\n",
    "    print((long // 4) * \"long \" + \"int\")"
   ]
  },
  {
   "cell_type": "code",
   "execution_count": null,
   "metadata": {},
   "outputs": [],
   "source": [
    "# No - 25311\n",
    "year = int(input())\n",
    "if year >= 2018 and year <= 2022:\n",
    "    print('A')"
   ]
  },
  {
   "cell_type": "code",
   "execution_count": null,
   "metadata": {},
   "outputs": [],
   "source": [
    "# No - 25238\n",
    "a, b = map(int, input().split())\n",
    "hit = a - (a * b / 100)\n",
    "if hit >= 100:\n",
    "    print(0)\n",
    "else:\n",
    "    print(1)"
   ]
  },
  {
   "cell_type": "code",
   "execution_count": null,
   "metadata": {},
   "outputs": [],
   "source": [
    "# No - 24900\n",
    "print('''                                                           :8DDDDDDDDDDDDDD$.                                           \n",
    "                                                      DDDNNN8~~~~~~~~~~=~7DNNDNDDDNNI                                   \n",
    "                                                  ?NNDD=~=~~~~~~~~~~~~~~~~~=~~==~=INNDNN7                               \n",
    "                                               +NDDI~~~~~~~~~~~~~~~~~~~~~~~=~~========~ODND+                            \n",
    "                                            :NND~~~~~~~~~~~~~~~~~~~~~~~~~~~=~~============7NDN                          \n",
    "                                          $DD$~~~~~~~~~~~~~~~~~~~~~~~~~~~~~=~~==============~DNN                        \n",
    "                                        $DD=~~~~~~~~~~~~~~~~~~~~~~~~~~~~~~~=~~=================NND                      \n",
    "                                       ND7~~~~~~~~~~~~~~~~~~~~~~~~~~~~~~~~~=~~===================DD7                    \n",
    "                                     ~DD=~~~~~~~~~~~~~~~~~~~~~~~~~~~~~~~~~~=======================8DN.                  \n",
    "                                    8DO~~~~~~~~~~~~~~~~~~~~~~~~~~~~~~~~~~~~=========================DD                  \n",
    "                                   8N~~~~~~~~~~~~~~~~~~~~~~~~~~~~~~~~~~~~~~=~~=======================DN                 \n",
    "                                  NN::::::::~~~~~~~~~~~=~~~~~~~~~~~~~~~~~~~=~~========================DDO               \n",
    "                                 $D$:::::::::::::::~~~~DD~~~~~~~~~~~~~~~~~~=~~=========================DN.              \n",
    "                                 D8:::::::::::::::::::DN=::~~~~~~~~~~~~~~~~=~~======================~~:~DN              \n",
    "                                DN:::::::::::::::::::ONO::::::::::::::::::::~~~~~~~~~~~~:::::::::::::::::DN             \n",
    "                               DN::::::::::::::::::::NN.:::::::::::::::::::::::::::DN::::::::::::::::::::$DO            \n",
    "                               DD:::::::::::::::::::DNI:::::::::::::::::::::::::::::D=::::::::::::::::::::NN            \n",
    "                              NN~~~~:::::$N?:::::::.NN::::::::::::::::::::::::::::::ND.:::::::::::::::::::+N8           \n",
    "                              N7~~~~~~~~OD7::::::::~DD::::::::::::::::::::::::::::::~D$::::::::::::::::::::DN           \n",
    "                             NN~~~~~~~~IDZ~~~~~::::DN~:::::::::::::::::::::::::::::::DN::::::::::::::::::::=N~          \n",
    "                             DD~~~~~~~~NN~~~~~~~~~=NN::::::::::::::::::::::::::::::::DN:::::::::::::::~~====NN          \n",
    "                            8D~~~~~~~~ND~~~~~~~~~~~ND~~~~~~~~:::::::::::::::::::::::::N7:::~~===============NN          \n",
    "                            DD~~~~~~~ON+~~~~~~~~~~~ND~~~~~~~~~~~~~~~~~~~=+NZ==========NN====================~ND         \n",
    "               :DD7   DNDD. N8~~~~~~~NN~~~~~~~~~~DDND~~~~~~~~~~~~~~~~~~~~ND~~=========DD=====================ND         \n",
    "               N~:DDNNN .8NDN~~~~~~~$D=~~~~~~~~+ND.DD~~~~~~~~~~~~~~~~~~~=DD~~=========~D+====================DN         \n",
    "              :D     .  ..~ND~~~~~~~NN~~~~~~~+NN$..ND~~~~~~~~~~~~~~~~~~~7N=~~=========~ND=======~============ON         \n",
    "              NN       ...:N?~~~~~~~N=~~~~~NNNI.. .7D+~~~~~~~~~~~~~~~~~=8NN~~==========NN=======N============$N         \n",
    "         N  ODN       ....DN~~~~~~~DD=8NNND$..     .DD~~~=~~~~~~~~~~~~~=NNDD=~=========8D~======NN===========~N$        \n",
    "    N? =NN  ND      .....NND~~~~~~~DDNN:...        .ND=~DNN~~~~~~~~~~~~=DN.DN~=========?N+======NN============ND        \n",
    "   $D? DN    DZ    ....ND8NN~~~~~~$D                .DD~NNDD~~~~~~~~~~~~D8..DN=========~DN======NN============DN        \n",
    "   DN ~N~   NN    ..:~NN..NZ~~~~~~DN                  NNN8.ND~~~~NDN?~~~DZ...7DD=======~NN======NN============DN        \n",
    "   ND DD    :DN.  ..ND$  .N?~~~~~=NNN                   . ..DDD$~N8OND8=N+   ..DDDZ~====NN======+D+===========ND        \n",
    "   NO         DD  ZDN    8NO~~~~~~NNN..DDDNN7               ...NND...:DDD:     .:.NDND=~DD======~DO===========DN        \n",
    "              DNDDN:.    DN~~~~~~=NNNN.ODNNNNDDNNO              ...     .         ...DNNNN=======ND===========DD        \n",
    "       INDN7    DD.     .DD~~~~~=IDND:.:~.....?DNDNN.                        ...... ....$D=======ND===========ND        \n",
    "       NN        ND.    8N=~~~~$ND::.:=~:.~=......=ND~                 .NNNNNNNNNNNNNNN.~N+======NN===========DN        \n",
    "       $DD        DN:   DD~~~~7NO...~==.:~~:.....                      NNNND? ..::..7NZ.:N?======8D~==========ZN        \n",
    "       DN?     ~D: DND.?D~~~~~DD....~:.~=~.......                            ....~=:.:~..ND======~N$==========~DO       \n",
    "       ND    ..DD.  .DNDN=~~~~DI.......:.........                           ....=~..~~~..DN======~DD===========NN       \n",
    "       DDD  :.:DD.  . DDI~~~~~ND................        .DNNNNNNNNNN7      ....=~:.:~~...NN=======ND===========?D~      \n",
    "       8D. ...OD..    DD~~~~~~+ND ............          NN:~::::~~~8N      ........~~...:ND=======DN============NN      \n",
    "       DDI:...ND     .D7~~~~~~~7NN ..........           ID8::::::::8D      .............:DN=======ON============NN      \n",
    "        ~NNND.N=.   .NN~~~~~~~~~NDN8                       ~::::::~N8       .............DN========D=============NI     \n",
    "               DDNNN.ND~~~~~~~~DD =DND                                       ............DN========N+~===========NN     \n",
    "                   ~:N=~~~~~~~~DD   .DDDD                                       ........ NN========DD============8D     \n",
    "                    8N~~~~~~~~~ND    . .7NDDD? .                                      .8DDN========NN=============D:    \n",
    "                    DD~~~~~~~~~DND:         IDNNND$.                           .+DNNNNDNIDN========DD=============DD    \n",
    "                    ND~~~~~~~~ZN 7DD .. .:DDNDDNNDNNNNDDNDND8$?===+$8DDNNNDDDDDN8I~DN====8N========NN=============NN    \n",
    "                    DD~~~~~~~~8N   DD.  .NN~~~~.~~=DNDNO.:7ODDDDNNDD8DDDND=~~~ =~~~ON====8N========DN=============DN    \n",
    "                    ND~~~~~~~~DN    ZDD  DN~~~ ~~~~~=.7DDD+.......8NNN==~~~~~ ~~~~~ONN$==DN========8N=============ON    \n",
    "                    ND~8N~=~~~ZN      DDODN=~.~~~~~=.~~~~INDNNNNDNN~~~~~~~~:~~~~~~~DN~ND=DN========DD=========~ND=8N    \n",
    "                    IN=NDDI~~~~D8       DNN::~~~~~.~~~~~=.~~ND~~ND~~~~~~~~.~~~~~~~~NN  NDNN====ND==ND~D?======DNN=ND    \n",
    "                     DNNI8ND=~~DN:       ZN=~~~~~ ~~~~~.~~~~DD~=DD~~~~~~~ ~~~~~~~=.ND. . ND===DNDD=NDDNN=====8NZDDDN    \n",
    "                      NND  IDNDNNN+       D+~~~:~~~~~~ ~~~~~DDNNN+~~~~~~~~~~~~~~:=?N7   .ND=~ND  DNNN~ID====ND7 NNN     \n",
    "                       ID                 ND~~ ~~~~~:.~~~7DDN7IDNN==~~ ~~~~~~~~ ~~DN   .:N?DDDDD NND  8N~=DDD  ZNN      \n",
    "                                          NN~:~~~~~ =7DDDD+8N  :N8DDZ.~~~~~~~~.~~~DD.   NDD+ . DN=     OND+             \n",
    "                                          DND~~~=8DNDDZ=~~ ND   NN~INND~~~~~.~~~~ND .    .    ..IDD                     \n",
    "                                         DDNNNDNNN+~~~~~~.7N.    ND~~~NDDI~ ~~~~=NNN             .DDI                   \n",
    "                                        DN=~~~~.=~~~~~~ ~~DN     +N+~~~~+DNDD~~~NNNND.            ..ND                  \n",
    "                                         DDI~~ ~~~~~~~ ~~~ND..  ..ND~~~~:~~~DNDNNNN+            ..7O8ND+                \n",
    "                                          .DND=~~~~=::~~=NN.   . . 8D~~.~~~~~~=DN$ODNDNDNNNDNNNNND8+~..                 \n",
    "                                             8DNNI=.~~~~=NDDNNNNDDNDNN.~~~~~IDDNDND7:.                                  \n",
    "                                                ?DNNDD?~DD          ~NN~~=NDD$                                          \n",
    "                                                     :DDD.            NNNN=                                             \n",
    "                                                     ''')"
   ]
  },
  {
   "cell_type": "code",
   "execution_count": null,
   "metadata": {},
   "outputs": [],
   "source": [
    "# No - 4999\n",
    "# 길이가 같을 때 처리가 문제에 잘 나와 있지 않다.\n",
    "my_voice = input()\n",
    "# my = my_voice + \"h\"\n",
    "doctor_request = input()\n",
    "# doct = doctor_request + \"h\"\n",
    "if len(my_voice) >= len(doctor_request):\n",
    "    print(\"go\")\n",
    "else:\n",
    "    print(\"no\")"
   ]
  },
  {
   "cell_type": "code",
   "execution_count": null,
   "metadata": {},
   "outputs": [],
   "source": [
    "# No - 5337\n",
    "print('''.  .   .\n",
    "|  | _ | _. _ ._ _  _\n",
    "|/\\|(/.|(_.(_)[ | )(/.''')"
   ]
  },
  {
   "cell_type": "code",
   "execution_count": null,
   "metadata": {},
   "outputs": [],
   "source": [
    "# No - 5338\n",
    "print('''       _.-;;-._\n",
    "'-..-'|   ||   |\n",
    "'-..-'|_.-;;-._|\n",
    "'-..-'|   ||   |\n",
    "'-..-'|_.-''-._|''')"
   ]
  },
  {
   "cell_type": "code",
   "execution_count": null,
   "metadata": {},
   "outputs": [],
   "source": [
    "# No - 5339\n",
    "print(\"     /~\\\\\")\n",
    "print(\"    ( oo|\")\n",
    "print(\"    _\\\\=/_\")\n",
    "print(\"   /  _  \\\\\")\n",
    "print(\"  //|/.\\\\|\\\\\\\\\")\n",
    "print(\" ||  \\\\ /  ||\")\n",
    "print(\"============\")\n",
    "print(\"|          |\")\n",
    "print(\"|          |\")\n",
    "print(\"|          |\")"
   ]
  },
  {
   "cell_type": "code",
   "execution_count": null,
   "metadata": {},
   "outputs": [],
   "source": [
    "# No - 5522\n",
    "scores = []\n",
    "i = 0\n",
    "while i < 5:\n",
    "    score = int(input())\n",
    "    i += 1\n",
    "    scores.append(score)\n",
    "print(sum(scores))"
   ]
  },
  {
   "cell_type": "code",
   "execution_count": null,
   "metadata": {},
   "outputs": [],
   "source": [
    "# No - 6810\n",
    "'''\n",
    "국제 표준 도서 번호(ISBN)는 책을 식별하기 위한 13자리 번호입니다. \n",
    "이 번호에는 번호가 제대로 쓰인 것인지 확인할 수 있는 특별한 성질이 숨겨져 있습니다.\n",
    "13자리 숫자의 1-3 합은 각 자리를 번갈아 1과 3으로 곱한 후 (예시를 참고합시다.) 그 값들을 더해 구할 수 있습니다. \n",
    "예를 들어, 9780921418948의 1-3 합은 아래와 같은 덧셈을 통해 120임을 알 수 있습니다.\n",
    "\n",
    "9 * 1 + 7 * 3 + 8 * 1 + 0 * 3 + 9 * 1 + 2 * 3 + 1 * 1 + 4 * 3 + 1 * 1 + 8 * 3 + (9 * 1 + 4 * 3 + 8 * 1) -> 문제에서 구현할 부분\n",
    "\n",
    "ISBN의 특별한 성질은 1-3 합이 언제나 10의 배수라는 것입니다.\n",
    "13자리 수의 1-3 합을 계산하는 프로그램을 작성합시다. 타자 양을 줄이기 위해, \n",
    "첫 열 개의 자리는 언제나 위의 예시와 같이 9780921418이라 가정합시다. \n",
    "당신의 프로그램은 마지막 세 자리를 입력 받아 1-3 합을 출력해야 합니다. \n",
    "아래의 예제와 같은 형식으로 출력합시다.\n",
    "'''\n",
    "nums = []\n",
    "fixed_total = 9 * 1 + 7 * 3 + 8 * 1 + 0 * 3 + 9 * 1 + 2 * 3 + 1 * 1 + 4 * 3 + 1 * 1 + 8 * 3\n",
    "\n",
    "i = 0\n",
    "while i < 3:\n",
    "    num = int(input())\n",
    "    nums.append(num)\n",
    "    i += 1\n",
    "\n",
    "sub_total = []\n",
    "for x in range(len(nums)):\n",
    "    if x % 2 == 0:\n",
    "        sub_total.append(nums[x] * 1)\n",
    "    elif x % 2 == 1:\n",
    "        sub_total.append(nums[x] * 3)\n",
    "\n",
    "print(f\"The 1-3-sum is {fixed_total + sum(sub_total)}\")"
   ]
  },
  {
   "cell_type": "code",
   "execution_count": null,
   "metadata": {},
   "outputs": [],
   "source": [
    "# No - 8370\n",
    "'''\n",
    "바이트 항공은 최근 새 항공기 모델을 항공기 라인에 추가했다. 새 모델은 비즈니스석에 n1개의 열, 이코노미석에 n2개의 열이 있다. \n",
    "또한 비즈니스석 각 열에는 k1개의 좌석이 있고, 이코노미석 각 열에는 k2개의 좌석이 있다. 당신은 아래의 과정을 만족하는 프로그램을 작성해야 한다.\n",
    "\n",
    "- 비행기의 좌석에 대한 정보를 읽는다.\n",
    "- 그 비행기에 있는 좌석의 총 수를 계산한다.\n",
    "- 그 결과를 출력한다.\n",
    "\n",
    "입력:\n",
    "오직 하나의 줄에 n1, k1, n2, k2 (1 <= n1, k1, n2, k2 <= 1000)가 공백 하나를 간격으로 주어진다.\n",
    "\n",
    "출력:\n",
    "오직 하나의 줄에 정수 하나 - 비행기에 있는 좌석의 총 수 - 를 출력하라.\n",
    "'''\n",
    "\n",
    "n1, k1, n2, k2 = map(int, input().split())\n",
    "print(n1 * k1 + n2 * k2)"
   ]
  },
  {
   "cell_type": "code",
   "execution_count": null,
   "metadata": {},
   "outputs": [],
   "source": [
    "# No - 8437\n",
    "'''\n",
    "율카는 어제 아래의 수수께끼를 풀어 유치원 선생님을 놀라게 했습니다.\n",
    "클라우디아와 나탈리아는 총 10개의 사과를 가지고 있는데, 클라우디아가 나탈리아보다 사과 2개를 더 가지고 있어요. \n",
    "그러면 두 소녀는 각각 몇 개의 사과를 가지고 있을까요?\n",
    "율카는 고민하는 기색도 없이 대답했습니다: 클라우디아가 6개, 나탈리아가 4개요.\n",
    "선생님은 율카가 우연히 정답을 말한 게 아닐지 확인하기 위해 사과의 숫자를 늘려가며 수수께끼를 물어보기로 했습니다. 그러나 율카는 언제나 정답을 말했습니다.\n",
    "놀란 선생님은 과정을 계속 반복하다가, 숫자가 너무 커져 그녀 스스로가 답을 찾지 못하는 지경에 이르렀습니다. \n",
    "유치원 선생님을 도와 수수께끼의 답을 구하는 프로그램을 작성합시다.\n",
    "\n",
    "프로그램은 아래의 과정을 만족해야 합니다.\n",
    "두 소녀가 가지고 있는 사과의 총 개수와 클라우디아가 더 가지고 있는 사과가 몇 개인지를 표준 입력으로 받아, \n",
    "클라우디아와 나탈리아가 각각 몇 개의 사과를 가지고 있는지 계산한 후, 결과 값을 표준 출력합니다.\n",
    "\n",
    "입력:\n",
    "입력은 두 줄로 주어집니다. 첫 줄에는 두 소녀가 가지고 있는 사과의 총 개수, 둘째 줄에는 클라우디아가 더 가지고 있는 사과의 개수가 주어집니다. \n",
    "두 수는 모두 자연수입니다. \n",
    "두 소녀가 가지고 있는 사과의 총 개수는 10의 100제곱을 넘지 않습니다. \n",
    "두 소녀가 10의 100제곱 개의 사과를 가질 수 있을 만큼 사과의 크기는 충분히 작을 수 있습니다.\n",
    "\n",
    "출력:\n",
    "당신의 프로그램은 두 개의 줄에 줄마다 하나, 총 두 개의 정수를 출력해야 합니다. \n",
    "첫 줄에는 클라우디아의 사과의 수, 둘째 줄에는 나탈리아의 사과의 수를 출력합니다. \n",
    "두 소녀가 가지고 있는 사과의 수가 정수임은 보장됩니다.\n",
    "'''\n",
    "total = int(input())\n",
    "more = int(input())\n",
    "\n",
    "print((total - more) // 2 + more)\n",
    "print((total - more) // 2)"
   ]
  },
  {
   "cell_type": "code",
   "execution_count": null,
   "metadata": {},
   "outputs": [],
   "source": [
    "# No - 8545\n",
    "# print 함수를 빼먹지 말자...\n",
    "'''주어진 세 글자 단어를 뒤집는 프로그램을 작성합시다.'''\n",
    "string = input()\n",
    "print(string[-1::-1])"
   ]
  },
  {
   "cell_type": "code",
   "execution_count": null,
   "metadata": {},
   "outputs": [],
   "source": [
    "# No - 8871\n",
    "rounds = int(input())\n",
    "print(f'{(rounds+1) * 2} {(rounds+1) * 3}')"
   ]
  },
  {
   "cell_type": "code",
   "execution_count": null,
   "metadata": {},
   "outputs": [],
   "source": [
    "# No - 9653\n",
    "print('''    8888888888  888    88888\n",
    "   88     88   88 88   88  88\n",
    "    8888  88  88   88  88888\n",
    "       88 88 888888888 88   88\n",
    "88888888  88 88     88 88    888888\n",
    "\n",
    "88  88  88   888    88888    888888\n",
    "88  88  88  88 88   88  88  88\n",
    "88 8888 88 88   88  88888    8888\n",
    " 888  888 888888888 88  88      88\n",
    "  88  88  88     88 88   88888888''')"
   ]
  },
  {
   "cell_type": "code",
   "execution_count": null,
   "metadata": {},
   "outputs": [],
   "source": [
    "# No - 9654\n",
    "print('''SHIP NAME      CLASS          DEPLOYMENT IN SERVICE\n",
    "N2 Bomber      Heavy Fighter  Limited    21        \n",
    "J-Type 327     Light Combat   Unlimited  1         \n",
    "NX Cruiser     Medium Fighter Limited    18        \n",
    "N1 Starfighter Medium Fighter Unlimited  25        \n",
    "Royal Cruiser  Light Combat   Limited    4         ''')"
   ]
  },
  {
   "cell_type": "code",
   "execution_count": null,
   "metadata": {},
   "outputs": [],
   "source": [
    "# No - 10757\n",
    "a, b = map(int, input().split())\n",
    "print(a+b)"
   ]
  },
  {
   "cell_type": "code",
   "execution_count": null,
   "metadata": {},
   "outputs": [],
   "source": [
    "# No - 11942\n",
    "print(\"고려대학교\")"
   ]
  },
  {
   "cell_type": "code",
   "execution_count": null,
   "metadata": {},
   "outputs": [],
   "source": [
    "# No - 13277\n",
    "a, b = map(int, input().split())\n",
    "print(a*b)"
   ]
  },
  {
   "cell_type": "code",
   "execution_count": null,
   "metadata": {},
   "outputs": [],
   "source": [
    "# No - 14645\n",
    "n, k = map(int, input().split())\n",
    "\n",
    "i = 0\n",
    "while i < n:\n",
    "    a, b = map(int, input().split())\n",
    "    i += 1\n",
    "print(\"비와이\")"
   ]
  },
  {
   "cell_type": "code",
   "execution_count": null,
   "metadata": {},
   "outputs": [],
   "source": [
    "# No - 14928\n",
    "number = int(input())\n",
    "print(number % 20000303)"
   ]
  },
  {
   "cell_type": "code",
   "execution_count": null,
   "metadata": {},
   "outputs": [],
   "source": [
    "# No - 15740\n",
    "a, b = map(int, input().split())\n",
    "print(a+b)"
   ]
  },
  {
   "cell_type": "code",
   "execution_count": null,
   "metadata": {},
   "outputs": [],
   "source": [
    "# No - 15962\n",
    "print(\"파이팅!!\")"
   ]
  },
  {
   "cell_type": "code",
   "execution_count": null,
   "metadata": {},
   "outputs": [],
   "source": [
    "# No - 15733\n",
    "print(\"I'm Sexy\")"
   ]
  },
  {
   "cell_type": "code",
   "execution_count": null,
   "metadata": {},
   "outputs": [],
   "source": [
    "# No - 15727 ★\n",
    "# 0으로 index를 바꿔야 한다.\n",
    "vel = int(input())\n",
    "vel -= 1\n",
    "\n",
    "min = vel // 5\n",
    "print(min + 1)"
   ]
  },
  {
   "cell_type": "code",
   "execution_count": null,
   "metadata": {},
   "outputs": [],
   "source": [
    "# No - 20492\n",
    "prize = int(input())\n",
    "total = prize * 78 / 100\n",
    "remain_total =  prize * 80 / 100 + (prize * 20 / 100) * 78 / 100\n",
    "print(int(total), int(remain_total), sep=' ')"
   ]
  },
  {
   "cell_type": "code",
   "execution_count": null,
   "metadata": {},
   "outputs": [],
   "source": [
    "# No - 24568\n",
    "'''일반 컵케이크 박스에는 8개의 컵케이크가, 작은 컵케이크 박스에는 3개의 컵케이크가 들어갑니다. \n",
    "반에는 28명의 학생이 있고 최소 28개 이상의 컵케이크가 있습니다. 각 학생이 하나의 컵케이크를 가져가고 난 후, 몇 개의 컵케이크가 남는지 구해봅시다.\n",
    "\n",
    "입력:\n",
    "입력은 두 줄로 주어집니다.\n",
    "\n",
    "- 첫 줄에는 일반 컵케이크 박스의 수를 나타내는 정수 R (R >= 0)이 주어집니다.\n",
    "- 둘째 줄에는 작은 컵케이크 박스의 수를 나타내는 정수 S (S >= 0)가 주어집니다.\n",
    "\n",
    "출력:\n",
    "남은 컵케이크의 수를 출력합니다.\n",
    "'''\n",
    "regular = int(input())\n",
    "small = int(input())\n",
    "\n",
    "total = 8 * regular + 3 * small\n",
    "print(total - 28)"
   ]
  },
  {
   "cell_type": "code",
   "execution_count": null,
   "metadata": {},
   "outputs": [],
   "source": [
    "# No - 16394\n",
    "year = int(input())\n",
    "\n",
    "print(year - 1946)"
   ]
  },
  {
   "cell_type": "code",
   "execution_count": null,
   "metadata": {},
   "outputs": [],
   "source": [
    "# No - 16170 ★\n",
    "# datetime 모듈을 불러 들여 현재 시간을 알아내고\n",
    "# 현재 시간과 UTC+0과 차이가 9시간이므로 시간을 바꿔야 한다.\n",
    "import datetime\n",
    "now = datetime.datetime.now() + datetime.timedelta(hours=9)\n",
    "print(now.year)\n",
    "print(now.month)\n",
    "print(now.day)"
   ]
  },
  {
   "cell_type": "code",
   "execution_count": null,
   "metadata": {},
   "outputs": [],
   "source": [
    "# No - 16430\n",
    "a, b = map(int, input().split())\n",
    "print(b-a, b, sep=\" \")"
   ]
  },
  {
   "cell_type": "code",
   "execution_count": null,
   "metadata": {},
   "outputs": [],
   "source": [
    "# No - 14652\n",
    "N, M, K = map(int, input().split())\n",
    "print(K // M, K % M, sep=' ')\n"
   ]
  },
  {
   "cell_type": "code",
   "execution_count": null,
   "metadata": {},
   "outputs": [],
   "source": [
    "# No - 17256\n",
    "a_x, a_y, a_z = map(int, input().split())\n",
    "c_x, c_y, c_z = map(int, input().split())\n",
    "\n",
    "b_x, b_y, b_z = 0, 0, 0\n",
    "\n",
    "b_x = c_x - a_z\n",
    "b_y = c_y / a_y\n",
    "b_z = c_z - a_x\n",
    "\n",
    "print(b_x, int(b_y), b_z)"
   ]
  },
  {
   "cell_type": "code",
   "execution_count": null,
   "metadata": {},
   "outputs": [],
   "source": [
    "# No - 17295\n",
    "name = input()\n",
    "print(\"Avengers: Endgame\")"
   ]
  },
  {
   "cell_type": "code",
   "execution_count": null,
   "metadata": {},
   "outputs": [],
   "source": [
    "# No - 18301\n",
    "n_1, n_2, n_12 = map(int, input().split())\n",
    "\n",
    "N = ((n_1 + 1) * (n_2 + 1) // (n_12 + 1)) - 1\n",
    "print(N)"
   ]
  },
  {
   "cell_type": "code",
   "execution_count": null,
   "metadata": {},
   "outputs": [],
   "source": [
    "# No - 20254\n",
    "ur, tr, u0, t0 = map(int, input().split())\n",
    "print(56 * ur + 24 * tr + 14 * u0 + 6 * t0)"
   ]
  },
  {
   "cell_type": "code",
   "execution_count": null,
   "metadata": {},
   "outputs": [],
   "source": [
    "# No - 21300\n",
    "a, b, c, d, e, f = map(int, input().split())\n",
    "print(5 * (a+b+c+d+e+f))"
   ]
  },
  {
   "cell_type": "code",
   "execution_count": null,
   "metadata": {},
   "outputs": [],
   "source": [
    "# No - 21598\n",
    "bow = int(input())\n",
    "\n",
    "for i in range(bow):\n",
    "    print(\"SciComLove\")"
   ]
  },
  {
   "cell_type": "code",
   "execution_count": null,
   "metadata": {},
   "outputs": [],
   "source": [
    "# No - 22193\n",
    "dec_a, dec_b = map(int, input().split())\n",
    "a = int(input())\n",
    "b = int(input())\n",
    "\n",
    "print(a*b)"
   ]
  },
  {
   "cell_type": "code",
   "execution_count": null,
   "metadata": {},
   "outputs": [],
   "source": [
    "# No - 23234\n",
    "print(\"The world says hello!\")"
   ]
  },
  {
   "cell_type": "code",
   "execution_count": null,
   "metadata": {},
   "outputs": [],
   "source": [
    "# No - 24736\n",
    "T_away, F_away, S_away, P_away, C_away = map(int, input().split())\n",
    "T_home, F_home, S_home, P_home, C_home = map(int, input().split())\n",
    "\n",
    "away = T_away * 6 + F_away * 3 + S_away * 2 + P_away * 1 + C_away * 2\n",
    "home = T_home * 6 + F_home * 3 + S_home * 2 + P_home * 1 + C_home * 2\n",
    "\n",
    "print(away, home, sep=' ')"
   ]
  },
  {
   "cell_type": "code",
   "execution_count": null,
   "metadata": {},
   "outputs": [],
   "source": [
    "# No - 23235\n",
    "i = 0\n",
    "\n",
    "while True:\n",
    "    sorted_list = list(map(int, input().split()))\n",
    "    if sorted_list[0] == 0:\n",
    "        break\n",
    "    print(f\"Case {i+1}: Sorting... done!\")\n",
    "    i += 1\n",
    "    "
   ]
  },
  {
   "cell_type": "code",
   "execution_count": null,
   "metadata": {},
   "outputs": [],
   "source": [
    "# No - 24309\n",
    "a = int(input())\n",
    "b = int(input())\n",
    "c = int(input())\n",
    "\n",
    "x = (b-c) // a\n",
    "print(x)"
   ]
  },
  {
   "cell_type": "code",
   "execution_count": null,
   "metadata": {},
   "outputs": [],
   "source": [
    "# No - 24262\n",
    "# 배열 A와 n을 받아서 A의 원소를 반환하는 것이므로 항상 상수 시간 O(1)이다.\n",
    "# 그러므로\n",
    "# 입력\n",
    "print(1)\n",
    "# 출력\n",
    "print(0)"
   ]
  },
  {
   "cell_type": "code",
   "execution_count": null,
   "metadata": {},
   "outputs": [],
   "source": [
    "# No - 24078\n",
    "num = int(input())\n",
    "print(num % 21)"
   ]
  },
  {
   "cell_type": "code",
   "execution_count": null,
   "metadata": {},
   "outputs": [],
   "source": [
    "# No - 24082\n",
    "num = int(input())\n",
    "print(num * num * num)"
   ]
  },
  {
   "cell_type": "code",
   "execution_count": null,
   "metadata": {},
   "outputs": [],
   "source": [
    "# No - 24086\n",
    "last_year = int(input())\n",
    "this_year = int(input())\n",
    "print(this_year - last_year)"
   ]
  },
  {
   "cell_type": "code",
   "execution_count": null,
   "metadata": {},
   "outputs": [],
   "source": [
    "# No - 16099\n",
    "test_cases = int(input())\n",
    "\n",
    "for case in range(test_cases):\n",
    "    l_t, w_t, l_e, w_e = map(int, input().split())\n",
    "    if l_t * w_t > l_e * w_e:\n",
    "        print('TelecomParisTech')\n",
    "    elif l_t * w_t < l_e * w_e:\n",
    "        print('Eurecom')\n",
    "    else:\n",
    "        print('Tie')\n"
   ]
  },
  {
   "cell_type": "code",
   "execution_count": null,
   "metadata": {},
   "outputs": [],
   "source": [
    "# No - 26082\n",
    "a, b, c = map(int, input().split())\n",
    "\n",
    "res = (b // a) * 3 * c\n",
    "print(res)"
   ]
  },
  {
   "cell_type": "code",
   "execution_count": 7,
   "metadata": {},
   "outputs": [],
   "source": [
    "# No - 26209\n",
    "\n",
    "bits = list(input().split())  # 0 0 1 1 0 1 0 1\n",
    "bit_count = 0\n",
    "for i in bits:\n",
    "    if i == \"0\" or i == \"1\":\n",
    "        bit_count += 1\n",
    "    else:\n",
    "        bit_count = 0\n",
    "\n",
    "if bit_count == 8:\n",
    "    print(\"S\")\n",
    "else:\n",
    "    print(\"F\")"
   ]
  },
  {
   "cell_type": "code",
   "execution_count": null,
   "metadata": {},
   "outputs": [],
   "source": []
  }
 ],
 "metadata": {
  "kernelspec": {
   "display_name": "Python 3.9.15 ('base')",
   "language": "python",
   "name": "python3"
  },
  "language_info": {
   "codemirror_mode": {
    "name": "ipython",
    "version": 3
   },
   "file_extension": ".py",
   "mimetype": "text/x-python",
   "name": "python",
   "nbconvert_exporter": "python",
   "pygments_lexer": "ipython3",
   "version": "3.9.15"
  },
  "orig_nbformat": 4,
  "vscode": {
   "interpreter": {
    "hash": "df412dcf80ae3c6c80dc3bdfc24efb1585607c3498e2fc11428e7a7b26bad366"
   }
  }
 },
 "nbformat": 4,
 "nbformat_minor": 2
}
