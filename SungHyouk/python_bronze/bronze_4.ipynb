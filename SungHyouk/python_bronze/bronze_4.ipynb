{
 "cells": [
  {
   "cell_type": "code",
   "execution_count": null,
   "metadata": {},
   "outputs": [],
   "source": [
    "# No - 1264\n",
    "\n",
    "while True:\n",
    "    i = 0\n",
    "    string = input()\n",
    "    if \"#\" in string:\n",
    "        break\n",
    "    string = string.lower()\n",
    "    for char in string:\n",
    "        if char in 'aeiou':\n",
    "            i += 1\n",
    "    print(i)"
   ]
  },
  {
   "cell_type": "code",
   "execution_count": null,
   "metadata": {},
   "outputs": [],
   "source": [
    "# No - 4470\n",
    "line_no = int(input())\n",
    "i = 1\n",
    "while i <= line_no:\n",
    "    string = input()\n",
    "    print(f'{i}. {string}')\n",
    "    i += 1"
   ]
  },
  {
   "cell_type": "code",
   "execution_count": null,
   "metadata": {},
   "outputs": [],
   "source": [
    "# No - 5524\n",
    "name_no = int(input())\n",
    "i = 0\n",
    "while i < name_no:\n",
    "    string = input().lower()\n",
    "    print(string)\n",
    "    i += 1"
   ]
  },
  {
   "cell_type": "code",
   "execution_count": null,
   "metadata": {},
   "outputs": [],
   "source": [
    "# No - 11365\n",
    "\n",
    "while True:\n",
    "    string = input()\n",
    "    if string == \"END\":\n",
    "        break\n",
    "    print(string[-1::-1])"
   ]
  },
  {
   "cell_type": "code",
   "execution_count": null,
   "metadata": {},
   "outputs": [],
   "source": [
    "# No - 11945\n",
    "N, M = map(int, input().split())\n",
    "i = 0\n",
    "while i < N:\n",
    "    i += 1\n",
    "    koi = input()\n",
    "    print(koi[-1::-1])"
   ]
  },
  {
   "cell_type": "code",
   "execution_count": null,
   "metadata": {},
   "outputs": [],
   "source": [
    "# No - 10808\n",
    "# 소문자 a의 아스키 코드는 97이다.\n",
    "S = input()\n",
    "word_list = [0] * 26\n",
    "for char in S:\n",
    "    word_list[ord(char) - 97] += 1\n",
    "for i in word_list:\n",
    "    print(i, end=' ')"
   ]
  },
  {
   "cell_type": "code",
   "execution_count": null,
   "metadata": {},
   "outputs": [],
   "source": [
    "# No - 2440\n",
    "num = int(input())\n",
    "\n",
    "for i in range(num, 0, -1):\n",
    "    print('*' * i, sep='')"
   ]
  },
  {
   "cell_type": "code",
   "execution_count": null,
   "metadata": {},
   "outputs": [],
   "source": [
    "# No - 2083\n",
    "while True:\n",
    "    name, age, kg = input().split()\n",
    "    if name == '#' or kg == '0' or age == '0':\n",
    "        break\n",
    "    if int(kg) >= 80 or int(age) > 17:\n",
    "        print(name, \"Senior\", sep=' ')\n",
    "    else:\n",
    "        print(name, \"Junior\", sep=' ')"
   ]
  },
  {
   "cell_type": "code",
   "execution_count": null,
   "metadata": {},
   "outputs": [],
   "source": [
    "# No - 2845\n",
    "L, P = map(int, input().split())\n",
    "papers = list(map(int, input().split()))\n",
    "total = L * P\n",
    "for no in range(len(papers)):\n",
    "    diff = papers[no] - total\n",
    "    print(diff, sep=' ', end=' ')"
   ]
  },
  {
   "cell_type": "code",
   "execution_count": null,
   "metadata": {},
   "outputs": [],
   "source": [
    "# No - 3046\n",
    "R1, S = map(int, input().split())\n",
    "R2 = 2 * S - R1\n",
    "print(R2)"
   ]
  },
  {
   "cell_type": "code",
   "execution_count": null,
   "metadata": {},
   "outputs": [],
   "source": [
    "# No - 5554\n",
    "home_to_school = int(input())\n",
    "school_to_PC = int(input())\n",
    "PC_to_tutor = int(input())\n",
    "tutor_to_home = int(input())\n",
    "\n",
    "total = home_to_school + school_to_PC + PC_to_tutor + tutor_to_home\n",
    "min = total // 60\n",
    "sec = total % 60\n",
    "print(min, sec, sep='\\n')"
   ]
  },
  {
   "cell_type": "code",
   "execution_count": null,
   "metadata": {},
   "outputs": [],
   "source": [
    "# No - 6749\n",
    "third = int(input())\n",
    "second = int(input())\n",
    "diff = second - third\n",
    "first = second + diff\n",
    "print(first)"
   ]
  },
  {
   "cell_type": "code",
   "execution_count": null,
   "metadata": {},
   "outputs": [],
   "source": [
    "# No - 15493\n",
    "N = int(input())\n",
    "combi = N * (N-1)\n",
    "print(combi)"
   ]
  },
  {
   "cell_type": "code",
   "execution_count": null,
   "metadata": {},
   "outputs": [],
   "source": [
    "# No - 2530\n",
    "hour, min, sec = map(int, input().split())\n",
    "cooking_sec = int(input())\n",
    "\n",
    "calculated_sec = hour * 3600 + min * 60 + sec\n",
    "total_sec = calculated_sec + cooking_sec\n",
    "\n",
    "cal_hour = total_sec // 3600\n",
    "cal_min = (total_sec % 3600) // 60\n",
    "cal_sec = (total_sec % 3600) % 60\n",
    "\n",
    "if total_sec >= 24*3600:\n",
    "    cal_hour = cal_hour % 24\n",
    "\n",
    "print(cal_hour, cal_min, cal_sec, sep=' ')"
   ]
  },
  {
   "cell_type": "code",
   "execution_count": null,
   "metadata": {},
   "outputs": [],
   "source": [
    "# No - 2752\n",
    "sorted_nums = sorted(list(map(int, input().split())))\n",
    "print(sorted_nums[0], sorted_nums[1], sorted_nums[2], sep=' ')"
   ]
  },
  {
   "cell_type": "code",
   "execution_count": null,
   "metadata": {},
   "outputs": [],
   "source": [
    "# No - 5532\n",
    "L = int(input())  # 전체 방학 일수\n",
    "A = int(input())  # 풀어야 하는 국어 페이지 수\n",
    "B = int(input())  # 풀어야 하는 수학 페이지 수\n",
    "C = int(input())  # 하루에 풀 수 있는 국어 페이지 수\n",
    "D = int(input())  # 하루에 풀 수 있는 수학 페이지 수\n",
    "\n",
    "kor, math = 0, 0\n",
    "elapse = 0\n",
    "\n",
    "if A % C == 0:\n",
    "    kor = A // C\n",
    "else:\n",
    "    kor = A // C + 1\n",
    "    \n",
    "if B % D == 0:\n",
    "    math = B // D\n",
    "else:\n",
    "    math = B // D + 1\n",
    "\n",
    "if kor >= math:\n",
    "    elapse = kor\n",
    "else:\n",
    "    elapse = math\n",
    "    \n",
    "print(L - elapse)"
   ]
  },
  {
   "cell_type": "code",
   "execution_count": null,
   "metadata": {},
   "outputs": [],
   "source": [
    "# No - 10039\n",
    "wonsup = int(input())\n",
    "sehee = int(input())\n",
    "sankeun = int(input())\n",
    "sung = int(input())\n",
    "kangsu = int(input())\n",
    "\n",
    "original_score = [wonsup, sehee, sankeun, sung, kangsu]\n",
    "for index in range(len(original_score)):\n",
    "    if original_score[index] < 40:\n",
    "        original_score[index] = 40\n",
    "\n",
    "sum, avg = 0, 0\n",
    "for score in original_score:\n",
    "    sum += score\n",
    "    avg = sum // 5\n",
    "\n",
    "print(avg)"
   ]
  },
  {
   "cell_type": "code",
   "execution_count": null,
   "metadata": {},
   "outputs": [],
   "source": [
    "# No - 5543\n",
    "first_B = int(input())\n",
    "second_B = int(input())\n",
    "third_B = int(input())\n",
    "coke = int(input())\n",
    "cider = int(input())\n",
    "\n",
    "burgers = [first_B, second_B, third_B]\n",
    "beverages = [coke, cider]\n",
    "\n",
    "set_bur = min(burgers)\n",
    "set_bev = min(beverages)\n",
    "\n",
    "print(set_bur+set_bev-50)"
   ]
  },
  {
   "cell_type": "code",
   "execution_count": null,
   "metadata": {},
   "outputs": [],
   "source": [
    "# No - 10797\n",
    "day = int(input())\n",
    "cars = list(map(int, input().split()))\n",
    "if day in cars:\n",
    "    print(cars.count(day))\n",
    "else:\n",
    "    print(0)"
   ]
  },
  {
   "cell_type": "code",
   "execution_count": null,
   "metadata": {},
   "outputs": [],
   "source": [
    "# No - 10156\n",
    "K, N, M = map(int, input().split())\n",
    "\n",
    "parents = K*N - M\n",
    "\n",
    "if parents >= 0:\n",
    "    print(parents)\n",
    "else:\n",
    "    print(0)"
   ]
  },
  {
   "cell_type": "code",
   "execution_count": null,
   "metadata": {},
   "outputs": [],
   "source": [
    "# No - 10101\n",
    "\n",
    "a = int(input())\n",
    "b = int(input())\n",
    "c = int(input())\n",
    "\n",
    "if a+b+c == 180:\n",
    "    if a == b == c == 60:\n",
    "        print('Equilateral')\n",
    "    if (a == b and a != c) or (a == c and a != b) or (b == c and a != b):\n",
    "        print('Isosceles')\n",
    "    if a != b and a != c and b != c:\n",
    "        print('Scalene')\n",
    "else:\n",
    "    print('Error')\n"
   ]
  },
  {
   "cell_type": "code",
   "execution_count": null,
   "metadata": {},
   "outputs": [],
   "source": [
    "# No - 5596\n",
    "minkook = list(map(int, input().split()))\n",
    "manse = list(map(int, input().split()))\n",
    "S, T = 0, 0\n",
    "for score in minkook:\n",
    "    S += score\n",
    "for score in manse:\n",
    "    T += score\n",
    "\n",
    "if S >= T:\n",
    "    print(S)\n",
    "else:\n",
    "    print(T)"
   ]
  },
  {
   "cell_type": "code",
   "execution_count": null,
   "metadata": {},
   "outputs": [],
   "source": [
    "# No - 15680\n",
    "N = int(input())\n",
    "\n",
    "if N == 0:\n",
    "    print('YONSEI')\n",
    "if N == 1:\n",
    "    print('Leading the Way to the Future')"
   ]
  },
  {
   "cell_type": "code",
   "execution_count": null,
   "metadata": {},
   "outputs": [],
   "source": [
    "# No - 9316\n",
    "i_s = int(input())\n",
    "\n",
    "for i in range(i_s):\n",
    "    print(f'Hello World, Judge {i+1}!')"
   ]
  },
  {
   "cell_type": "code",
   "execution_count": null,
   "metadata": {},
   "outputs": [],
   "source": [
    "# No - 5717\n",
    "male = 0\n",
    "female = 0\n",
    "\n",
    "while True:\n",
    "    male, female = map(int, input().split())\n",
    "    if male == 0 and female == 0:\n",
    "        break\n",
    "    else:\n",
    "        print(male+female)"
   ]
  },
  {
   "cell_type": "code",
   "execution_count": null,
   "metadata": {},
   "outputs": [],
   "source": [
    "# No - 11943 ★\n",
    "# 다른 사람의 코드를 보고 풀었다..\n",
    "basket_1_a, basket_1_o = map(int, input().split())\n",
    "basket_2_a, basket_2_o = map(int, input().split())\n",
    "print(min(basket_1_a+basket_2_o, basket_1_o+basket_2_a))"
   ]
  },
  {
   "cell_type": "code",
   "execution_count": null,
   "metadata": {},
   "outputs": [],
   "source": [
    "# No - 3765\n",
    "# 문제가 이상함...\n",
    "# 계속 입력 받다가 EOFError를 발생시키라는 소리였음...\n",
    "while True:\n",
    "    try:\n",
    "        string = input().strip()\n",
    "        print(string)\n",
    "    except EOFError:\n",
    "        break"
   ]
  },
  {
   "cell_type": "code",
   "execution_count": null,
   "metadata": {},
   "outputs": [],
   "source": [
    "# No - 15963\n",
    "N, M = map(int, input().split())\n",
    "if N == M:\n",
    "    print(1)\n",
    "else:\n",
    "    print(0)"
   ]
  },
  {
   "cell_type": "code",
   "execution_count": null,
   "metadata": {},
   "outputs": [],
   "source": [
    "# No - 10768\n",
    "month = int(input())\n",
    "day = int(input())\n",
    "\n",
    "if month < 2:\n",
    "    print('Before')\n",
    "elif month == 2:\n",
    "    if day == 18:\n",
    "        print('Special')\n",
    "    elif day > 18:\n",
    "        print('After')\n",
    "    else:\n",
    "        print('Before')\n",
    "else:\n",
    "    print('After')"
   ]
  },
  {
   "cell_type": "code",
   "execution_count": null,
   "metadata": {},
   "outputs": [],
   "source": [
    "# No - 5575\n",
    "# 반복도 많고, 줄일 수 있는 요소가 많을 것 같다.\n",
    "\n",
    "a_start_hour, a_start_min, a_start_sec, a_end_hour, a_end_min, a_end_sec = map(int, input().split())\n",
    "b_start_hour, b_start_min, b_start_sec, b_end_hour, b_end_min, b_end_sec = map(int, input().split())\n",
    "c_start_hour, c_start_min, c_start_sec, c_end_hour, c_end_min, c_end_sec = map(int, input().split())\n",
    "\n",
    "a_start_total_sec = a_start_hour * 3600 + a_start_min * 60 + a_start_sec\n",
    "a_end_total_sec = a_end_hour * 3600 + a_end_min * 60 + a_end_sec\n",
    "\n",
    "b_start_total_sec = b_start_hour * 3600 + b_start_min * 60 + b_start_sec\n",
    "b_end_total_sec = b_end_hour * 3600 + b_end_min * 60 + b_end_sec\n",
    "\n",
    "c_start_total_sec = c_start_hour * 3600 + c_start_min * 60 + c_start_sec\n",
    "c_end_total_sec = c_end_hour * 3600 + c_end_min * 60 + c_end_sec\n",
    "\n",
    "a_working = a_end_total_sec - a_start_total_sec\n",
    "b_working = b_end_total_sec - b_start_total_sec\n",
    "c_working = c_end_total_sec - c_start_total_sec\n",
    "\n",
    "print(a_working//3600, (a_working%3600)//60, a_working%60)\n",
    "print(b_working//3600, (b_working%3600)//60, b_working%60)\n",
    "print(c_working//3600, (c_working%3600)//60, c_working%60)"
   ]
  },
  {
   "cell_type": "code",
   "execution_count": null,
   "metadata": {},
   "outputs": [],
   "source": [
    "# No - 4589\n",
    "groups = int(input())\n",
    "gnomes = []\n",
    "\n",
    "print('Gnomes:')\n",
    "for num in range(groups):\n",
    "    gnomes = list(map(int, input().split()))\n",
    "    if gnomes == sorted(gnomes) or gnomes == sorted(gnomes, reverse=True):\n",
    "        print('Ordered')\n",
    "    else:\n",
    "        print('Unordered')"
   ]
  },
  {
   "cell_type": "code",
   "execution_count": null,
   "metadata": {},
   "outputs": [],
   "source": [
    "# No - 11948\n",
    "scores = []\n",
    "total = 0\n",
    "\n",
    "for i in range(6):\n",
    "    score = (int(input()))\n",
    "    scores.append(score)\n",
    "subject_4 = sorted(scores[0:4])\n",
    "subject_2 = sorted(scores[4:])\n",
    "\n",
    "selected = subject_4[1:] + subject_2[1:]\n",
    "\n",
    "for score in selected:\n",
    "    total += score\n",
    "print(total)"
   ]
  },
  {
   "cell_type": "code",
   "execution_count": null,
   "metadata": {},
   "outputs": [],
   "source": [
    "# No - 17388\n",
    "S, K, H = map(int, input().split())\n",
    "if S+K+H >= 100:\n",
    "    print(\"OK\")\n",
    "elif (S < K and S < H):\n",
    "    print(\"Soongsil\")\n",
    "elif (K < S and K < H):\n",
    "    print(\"Korea\")\n",
    "elif (H < S and H < K):\n",
    "    print(\"Hanyang\")"
   ]
  },
  {
   "cell_type": "code",
   "execution_count": null,
   "metadata": {},
   "outputs": [],
   "source": [
    "# No - 16486\n",
    "d_1 = int(input())\n",
    "d_2 = int(input())\n",
    "\n",
    "pi = 3.141592\n",
    "\n",
    "rect = d_1 * 2\n",
    "circle = 2 * pi * d_2\n",
    "print(rect+circle)"
   ]
  },
  {
   "cell_type": "code",
   "execution_count": null,
   "metadata": {},
   "outputs": [],
   "source": [
    "# No - 20499\n",
    "K, D, A = map(int, input().split('/'))\n",
    "if K+A < D or D == 0:\n",
    "    print('hasu')\n",
    "else:\n",
    "    print('gosu')"
   ]
  },
  {
   "cell_type": "code",
   "execution_count": null,
   "metadata": {},
   "outputs": [],
   "source": [
    "# No - 17362 ★\n",
    "n = int(input())\n",
    "remain = n % 8\n",
    "\n",
    "if remain == 1:\n",
    "    print(1)\n",
    "elif remain == 2 or remain == 0:\n",
    "    print(2)\n",
    "elif remain == 3 or remain == 7:\n",
    "    print(3)\n",
    "elif remain == 4 or remain == 6:\n",
    "    print(4)\n",
    "else:\n",
    "    print(5)"
   ]
  },
  {
   "cell_type": "code",
   "execution_count": null,
   "metadata": {},
   "outputs": [],
   "source": [
    "# No - 13866\n",
    "# 절대값으로 출력해야 한다...\n",
    "A, B, C, D = map(int, input().split())\n",
    "\n",
    "diff = (A+D) - (B+C)\n",
    "print(abs(diff))"
   ]
  },
  {
   "cell_type": "code",
   "execution_count": null,
   "metadata": {},
   "outputs": [],
   "source": [
    "# No - 15873\n",
    "a_plus_b = input()\n",
    "\n",
    "if len(a_plus_b) == 2:\n",
    "    print(int(a_plus_b[0]) + int(a_plus_b[1]))\n",
    "if a_plus_b[:2] == '10':\n",
    "    print(int(a_plus_b[0:2]) + int(a_plus_b[2:]))\n",
    "if a_plus_b[1:] == '10':\n",
    "    print(int(a_plus_b[0]) + int(a_plus_b[1:]))"
   ]
  },
  {
   "cell_type": "code",
   "execution_count": null,
   "metadata": {},
   "outputs": [],
   "source": [
    "# No - 5893\n",
    "bin_num = input()\n",
    "calc_ed = 17 * int(bin_num, 2)\n",
    "res = bin(calc_ed)\n",
    "print(res[2:])"
   ]
  },
  {
   "cell_type": "code",
   "execution_count": null,
   "metadata": {},
   "outputs": [],
   "source": [
    "# No - 11121\n",
    "input_num = int(input())\n",
    "i = 0\n",
    "\n",
    "while True:\n",
    "    if i == input_num:\n",
    "        break\n",
    "    input_bit, output_bit = input().split()\n",
    "    if input_bit == output_bit:\n",
    "        print('OK')\n",
    "    else:\n",
    "        print('ERROR')\n",
    "    i += 1\n",
    "    "
   ]
  },
  {
   "cell_type": "code",
   "execution_count": null,
   "metadata": {},
   "outputs": [],
   "source": [
    "# No - 13985\n",
    "formula = list(input().split())\n",
    "if int(formula[0]) + int(formula[2]) == int(formula[-1]):\n",
    "    print('YES')\n",
    "else:\n",
    "    print('NO')"
   ]
  },
  {
   "cell_type": "code",
   "execution_count": null,
   "metadata": {},
   "outputs": [],
   "source": [
    "# No - 15000\n",
    "input_chr = input().lower()\n",
    "print(input_chr.upper())"
   ]
  },
  {
   "cell_type": "code",
   "execution_count": null,
   "metadata": {},
   "outputs": [],
   "source": [
    "# No - 17836\n",
    "number_555 = input()\n",
    "if number_555[0:3] == '555':\n",
    "    print('YES')\n",
    "else:\n",
    "    print('NO')"
   ]
  },
  {
   "cell_type": "code",
   "execution_count": null,
   "metadata": {},
   "outputs": [],
   "source": [
    "# No - 18198\n",
    "match = input()\n",
    "score_A = []\n",
    "score_B = []\n",
    "sum_A = 0\n",
    "sum_B = 0\n",
    "\n",
    "# A, B의 점수 가르기\n",
    "for i in range(len(match)):\n",
    "    if match[i] == 'A':\n",
    "        score_A.append(match[i+1])\n",
    "    if match[i] == 'B':\n",
    "        score_B.append(match[i+1])\n",
    "\n",
    "# A, B의 점수 합 구하기\n",
    "for score in score_A:\n",
    "    sum_A += int(score)\n",
    "for score in score_B:\n",
    "    sum_B += int(score)\n",
    "\n",
    "# 승자 가르기\n",
    "if sum_A >= 11 and sum_A - sum_B >= 2:\n",
    "    print('A')\n",
    "if sum_B >= 11 and sum_B - sum_A >= 2:\n",
    "    print('B')"
   ]
  },
  {
   "cell_type": "code",
   "execution_count": null,
   "metadata": {},
   "outputs": [],
   "source": [
    "# No - 18409\n",
    "N = int(input())\n",
    "S = input()\n",
    "vowel = []\n",
    "for char in S:\n",
    "    if char in 'aeiou':\n",
    "        vowel.append(char)\n",
    "print(len(vowel))"
   ]
  },
  {
   "cell_type": "code",
   "execution_count": null,
   "metadata": {},
   "outputs": [],
   "source": [
    "# No - 19944\n",
    "N, M = map(int, input().split())\n",
    "if M == 1 or M == 2:\n",
    "    print('NEWBIE!')\n",
    "elif M <= N:\n",
    "    print('OLDBIE!')\n",
    "if M > N:\n",
    "    print('TLE!')"
   ]
  },
  {
   "cell_type": "code",
   "execution_count": null,
   "metadata": {},
   "outputs": [],
   "source": [
    "# No - 25640\n",
    "jinho = input()\n",
    "friends = int(input())\n",
    "friends_mbti = ''\n",
    "friends_num = 0\n",
    "\n",
    "for friend in range(friends):\n",
    "    friends_mbti = input()\n",
    "    if jinho == friends_mbti:\n",
    "        friends_num += 1\n",
    "\n",
    "print(friends_num)"
   ]
  },
  {
   "cell_type": "code",
   "execution_count": null,
   "metadata": {},
   "outputs": [],
   "source": [
    "# No - 18698\n",
    "adam_try = int(input())\n",
    "each_try = ''\n",
    "\n",
    "for total_try in range(adam_try):\n",
    "    each_try = input()\n",
    "    if 'U' not in each_try:\n",
    "        print(0)\n",
    "    elif 'D' not in each_try:\n",
    "        print(len(each_try))\n",
    "    else:\n",
    "        ud = each_try.split('D')\n",
    "        print(len(ud[0]))"
   ]
  },
  {
   "cell_type": "code",
   "execution_count": null,
   "metadata": {},
   "outputs": [],
   "source": [
    "# No - 14489\n",
    "a, b = map(int, input().split())\n",
    "chic = int(input())\n",
    "\n",
    "if a+b >= chic * 2:\n",
    "    print((a+b) - (chic * 2))\n",
    "else:\n",
    "    print(a+b)"
   ]
  },
  {
   "cell_type": "code",
   "execution_count": null,
   "metadata": {},
   "outputs": [],
   "source": [
    "# No - 14581\n",
    "ID = input()\n",
    "print(':fan::fan::fan:')\n",
    "print(f':fan::{ID}::fan:')\n",
    "print(':fan::fan::fan:')"
   ]
  },
  {
   "cell_type": "code",
   "execution_count": null,
   "metadata": {},
   "outputs": [],
   "source": [
    "# No - 4696\n",
    "# 소수점 자리수를 생각해라.\n",
    "while True:\n",
    "    i = float(input())\n",
    "    if i == 0:\n",
    "        break\n",
    "    total = 1 + i + i*i + i*i*i + i*i*i*i\n",
    "    print(f'{total:.2f}')"
   ]
  },
  {
   "cell_type": "code",
   "execution_count": null,
   "metadata": {},
   "outputs": [],
   "source": [
    "# No - 4714\n",
    "while True:\n",
    "    pounds = float(input())\n",
    "    if pounds <= -1.0:\n",
    "        break\n",
    "    moon_pounds = pounds * 0.167\n",
    "    print(f'Objects weighing {pounds:.2f} on Earth will weigh {moon_pounds:.2f} on the moon.')"
   ]
  },
  {
   "cell_type": "code",
   "execution_count": null,
   "metadata": {},
   "outputs": [],
   "source": [
    "# No - 5928\n",
    "d, h, m = map(int, input().split())\n",
    "\n",
    "base_min = 11 * 24 * 60 + 11 * 60 + 11\n",
    "last_min = d * 24 * 60 + h * 60 + m\n",
    "diff = last_min - base_min\n",
    "if diff < 0:\n",
    "    print(-1)\n",
    "else:\n",
    "    print(diff)"
   ]
  },
  {
   "cell_type": "code",
   "execution_count": null,
   "metadata": {},
   "outputs": [],
   "source": [
    "# No - 6763\n",
    "limit = int(input())\n",
    "my_velocity = int(input())\n",
    "diff = my_velocity - limit\n",
    "\n",
    "if diff < 1:\n",
    "    print(\"Congratulations, you are within the speed limit!\")\n",
    "else:\n",
    "    if diff >= 1 and diff <= 20:\n",
    "        fine = 100\n",
    "        print(f'You are speeding and your fine is ${fine}.')\n",
    "    elif diff >= 21 and diff <= 30:\n",
    "        fine = 270\n",
    "        print(f'You are speeding and your fine is ${fine}.')\n",
    "    else:\n",
    "        fine = 500\n",
    "        print(f'You are speeding and your fine is ${fine}.')"
   ]
  },
  {
   "cell_type": "code",
   "execution_count": null,
   "metadata": {},
   "outputs": [],
   "source": [
    "# No - 6764 ★\n",
    "# 구현이 생각보다 쉽지 않았다...\n",
    "depth_list = []\n",
    "for i in range(4):\n",
    "    depth = int(input())\n",
    "    depth_list.append(depth)\n",
    "\n",
    "diff = 0\n",
    "for depth in range(len(depth_list)-1):\n",
    "    if depth_list[depth+1] - depth_list[depth] > 0:\n",
    "        diff += 1\n",
    "    elif depth_list[depth+1] - depth_list[depth] < 0:\n",
    "        diff -= 1\n",
    "    else:\n",
    "        diff = 0\n",
    "\n",
    "if len(set(depth_list)) == 1:\n",
    "    print(\"Fish At Constant Depth\")\n",
    "elif diff == 3:\n",
    "    print(\"Fish Rising\")\n",
    "elif diff == -3:\n",
    "    print(\"Fish Diving\")\n",
    "else:\n",
    "    print(\"No Fish\")"
   ]
  },
  {
   "cell_type": "code",
   "execution_count": null,
   "metadata": {},
   "outputs": [],
   "source": [
    "# No - 14924\n",
    "S, T, D = map(int, input().split())\n",
    "# S = 기차의 속도\n",
    "# T = 파리의 속도\n",
    "# D = 처음 두 기차 사이의 거리\n",
    "# F = 파리의 이동 거리\n",
    "\n",
    "hour_meet_train = D / (S * 2)\n",
    "F = T * hour_meet_train\n",
    "print(int(F))"
   ]
  },
  {
   "cell_type": "code",
   "execution_count": null,
   "metadata": {},
   "outputs": [],
   "source": [
    "# No - 11283\n",
    "han_char = input()\n",
    "han_num = ord(han_char) - 44031\n",
    "print(han_num)"
   ]
  },
  {
   "cell_type": "code",
   "execution_count": null,
   "metadata": {},
   "outputs": [],
   "source": [
    "# No - 11282\n",
    "han_num = int(input())\n",
    "han_char = han_num + 44031\n",
    "print(chr(han_char))"
   ]
  },
  {
   "cell_type": "code",
   "execution_count": null,
   "metadata": {},
   "outputs": [],
   "source": [
    "# No - 14470\n",
    "c_list = []\n",
    "for i in range(5):\n",
    "    celcius = int(input())\n",
    "    c_list.append(celcius)\n",
    "\n",
    "unfreez = 0\n",
    "if c_list[0] <= 0:\n",
    "    unfreez = (0-c_list[0]) * c_list[2] + c_list[3] + c_list[1] * c_list[4]\n",
    "    print(unfreez)\n",
    "else:\n",
    "    unfreez = (c_list[1] - c_list[0]) * c_list[4]\n",
    "    print(unfreez)"
   ]
  },
  {
   "cell_type": "code",
   "execution_count": null,
   "metadata": {},
   "outputs": [],
   "source": [
    "# No - 15726\n",
    "a, b, c = map(int, input().split())\n",
    "print(int(max(a*b/c, a/b*c)))\n"
   ]
  },
  {
   "cell_type": "code",
   "execution_count": null,
   "metadata": {},
   "outputs": [],
   "source": [
    "# No - 18096\n",
    "n = int(input())\n",
    "print(1**n)"
   ]
  },
  {
   "cell_type": "code",
   "execution_count": null,
   "metadata": {},
   "outputs": [],
   "source": [
    "# No - 6778\n",
    "alien_appearance = []\n",
    "for i in range(2):\n",
    "    alien = int(input())\n",
    "    alien_appearance.append(alien)\n",
    "\n",
    "if alien_appearance[0] >= 3 and alien_appearance[1] <= 4:\n",
    "    print(\"TroyMartian\")\n",
    "if alien_appearance[0] <= 6 and alien_appearance[1] >= 2:\n",
    "    print(\"VladSaturnian\")\n",
    "if alien_appearance[0] <= 2 and alien_appearance[1] <= 3:\n",
    "    print(\"GraemeMercurian\")"
   ]
  },
  {
   "cell_type": "code",
   "execution_count": null,
   "metadata": {},
   "outputs": [],
   "source": [
    "# No - 15700\n",
    "n, m = list(map(int, input().split()))\n",
    "tile = (n*m) // 2\n",
    "print(tile)"
   ]
  },
  {
   "cell_type": "code",
   "execution_count": null,
   "metadata": {},
   "outputs": [],
   "source": [
    "# No - 11549\n",
    "right = 0\n",
    "\n",
    "tea = int(input())\n",
    "candidate = list(map(int, input().split()))\n",
    "\n",
    "for i in candidate:\n",
    "    if tea == i:\n",
    "        right += 1\n",
    "print(right)"
   ]
  },
  {
   "cell_type": "code",
   "execution_count": null,
   "metadata": {},
   "outputs": [],
   "source": [
    "# No - 14935\n",
    "# 허무한 문제...\n",
    "# NFA는 없을 것이다. (하지만 증명은 어떻게 하지??)\n",
    "print(\"FA\")\n",
    "# def fx(num):\n",
    "#     num_to_str = str(num)\n",
    "#     ans = int(num_to_str[0]) * len(num_to_str)\n",
    "#     return ans\n",
    "\n",
    "# number = int(input())\n",
    "# temp = fx(number)\n",
    "\n",
    "# while True:\n",
    "#     temp = fx(temp)\n",
    "#     if len(str(temp)) == 1:\n",
    "#         print('FA')\n",
    "#         break\n",
    "#     else:\n",
    "#         print('NFA')\n",
    "#         break"
   ]
  },
  {
   "cell_type": "code",
   "execution_count": null,
   "metadata": {},
   "outputs": [],
   "source": [
    "# No - 16204\n",
    "entire, front_o, back_o = map(int, input().split())\n",
    "\n",
    "front_x = entire - front_o\n",
    "back_x = entire - back_o\n",
    "\n",
    "f_min = min(front_o, back_o)\n",
    "b_min = min(front_x, back_x)\n",
    "\n",
    "print(f_min + b_min)"
   ]
  },
  {
   "cell_type": "code",
   "execution_count": null,
   "metadata": {},
   "outputs": [],
   "source": [
    "# No - 7595\n",
    "stars = []\n",
    "while True:\n",
    "    if 0 in stars:\n",
    "        break\n",
    "    star = int(input())\n",
    "    stars.append(star)\n",
    "\n",
    "for star in stars:\n",
    "    for i in range(1, star+1):\n",
    "        print('*' * i, sep='')"
   ]
  },
  {
   "cell_type": "code",
   "execution_count": null,
   "metadata": {},
   "outputs": [],
   "source": [
    "# No - 7891\n",
    "test_cases = int(input())\n",
    "for test in range(test_cases):\n",
    "    a, b = map(int, input().split())\n",
    "    print(a+b)"
   ]
  },
  {
   "cell_type": "code",
   "execution_count": null,
   "metadata": {},
   "outputs": [],
   "source": [
    "# No - 8558\n",
    "num = int(input())\n",
    "\n",
    "def factorial(number):\n",
    "    res = 1\n",
    "    if number <= 1:\n",
    "        res = 1\n",
    "    elif number > 1:\n",
    "        for i in range(1, number+1):\n",
    "            res *= i\n",
    "    return res\n",
    "\n",
    "result = factorial(num)\n",
    "print(str(result)[-1])"
   ]
  },
  {
   "cell_type": "code",
   "execution_count": null,
   "metadata": {},
   "outputs": [],
   "source": [
    "# No - 4299\n",
    "# 은근 잘 정리하기 힘들었다... - 결국 인터넷의 풀이를 보고 품\n",
    "score_sum, score_diff = map(int, input().split())\n",
    "\n",
    "if score_sum < score_diff:\n",
    "    print(-1)\n",
    "else:\n",
    "    A = (score_sum + score_diff) // 2\n",
    "    B = (score_sum - score_diff) // 2\n",
    "    if A+B == score_sum and A-B == score_diff:\n",
    "        print(A, B)\n",
    "    else:\n",
    "        print(-1)"
   ]
  },
  {
   "cell_type": "code",
   "execution_count": null,
   "metadata": {},
   "outputs": [],
   "source": [
    "# No - 19698\n",
    "n, w, h, l = map(int, input().split())\n",
    "n_w = w // l\n",
    "n_h = h // l\n",
    "if n <= n_w * n_h:\n",
    "    print(n)\n",
    "else:\n",
    "    print(n_w * n_h)"
   ]
  },
  {
   "cell_type": "code",
   "execution_count": null,
   "metadata": {},
   "outputs": [],
   "source": [
    "# No - 14623\n",
    "# 함수 검색해서 풂\n",
    "b1 = input()\n",
    "b2 = input()\n",
    "\n",
    "b1_bin = '0b' + b1\n",
    "b2_bin = '0b' + b2\n",
    "\n",
    "b1_bin_dec = int(b1_bin, 2)\n",
    "b2_bin_dec = int(b2_bin, 2)\n",
    "\n",
    "mul = b1_bin_dec * b2_bin_dec\n",
    "print(str(bin(mul))[2:])"
   ]
  },
  {
   "cell_type": "code",
   "execution_count": null,
   "metadata": {},
   "outputs": [],
   "source": [
    "# No - 8674\n",
    "# 행과 열 중 하나가 짝수면 공평하게 나눌 수 있다.\n",
    "# 둘 중 하나가 홀수면, 행, 렬 중 둘 중 작은 수의 초콜렛 조각이 항상 남는다.\n",
    "a, b = map(int, input().split())\n",
    "\n",
    "if a % 2 == 0 or b % 2 == 0:\n",
    "    print(0)\n",
    "else:\n",
    "    print(min(a, b))"
   ]
  },
  {
   "cell_type": "code",
   "execution_count": null,
   "metadata": {},
   "outputs": [],
   "source": [
    "# No - 21665 ★\n",
    "# 2차원 배열은 뭔가 어렵다...\n",
    "# 2차원 배열 초기화\n",
    "# 각 배열을 입력 받은 원소대로 채워넣기\n",
    "# 한 칸 띄우기\n",
    "# 각 배열을 원소마다 순회하며 같은 경우 카운터를 1씩 증가\n",
    "\n",
    "row, col = map(int, input().split())\n",
    "count = 0\n",
    "\n",
    "matrix_in = [[0]*col for _ in range(row)]\n",
    "matrix_out = [[0]*col for _ in range(row)]\n",
    "\n",
    "for i in range(row):\n",
    "    each_row = list(input())\n",
    "    for j in range(col):\n",
    "        matrix_in[i][j] = each_row[j]\n",
    "input()\n",
    "for i in range(row):\n",
    "    each_row = list(input())\n",
    "    for j in range(col):\n",
    "        matrix_out[i][j] = each_row[j]\n",
    "\n",
    "for i in range(row):\n",
    "    for j in range(col):\n",
    "        if matrix_in[i][j] == matrix_out[i][j]:\n",
    "            count += 1\n",
    "\n",
    "print(count)"
   ]
  },
  {
   "cell_type": "code",
   "execution_count": null,
   "metadata": {},
   "outputs": [],
   "source": [
    "# No - 16199\n",
    "# month를 기준으로 생각하는 것이 편하다\n",
    "b_year, b_month, b_day = map(int, input().split())\n",
    "s_year, s_month, s_day = map(int, input().split())\n",
    "\n",
    "age = 0\n",
    "if b_month == s_month:\n",
    "    if b_day > s_day:\n",
    "        age = s_year - b_year - 1  # 생일 안 지남\n",
    "    else:\n",
    "        age = s_year - b_year  # 생일 지남\n",
    "elif b_month > s_month:\n",
    "    age = s_year - b_year - 1  # 생일 안지남\n",
    "else:\n",
    "    age = s_year - b_year  # 생일 지남\n",
    "\n",
    "korean_age = s_year - b_year + 1\n",
    "year_age = s_year - b_year\n",
    "\n",
    "print(age)\n",
    "print(korean_age)\n",
    "print(year_age)"
   ]
  },
  {
   "cell_type": "code",
   "execution_count": null,
   "metadata": {},
   "outputs": [],
   "source": [
    "# No - 13136\n",
    "# 코드를 줄일 수 있는 방법 없을까...\n",
    "\n",
    "R, C, N = map(int, input().split())\n",
    "\n",
    "R_mod = 0\n",
    "C_mod = 0\n",
    "\n",
    "if R % N == 0 and C % N == 0:\n",
    "    R_mod = R\n",
    "    C_mod = C\n",
    "    res_R = R_mod / N\n",
    "    res_C = C_mod / N\n",
    "    print(int(res_R * res_C))\n",
    "elif R % N != 0 and C % N != 0:\n",
    "    R_mod = (R - R % N) + N\n",
    "    C_mod = (C - C % N) + N\n",
    "    res_R = R_mod / N\n",
    "    res_C = C_mod / N\n",
    "    print(int(res_R * res_C))\n",
    "\n",
    "elif R % N != 0 and C % N == 0:\n",
    "    R_mod = (R - R % N) + N\n",
    "    C_mod = C\n",
    "    res_R = R_mod / N\n",
    "    res_C = C_mod / N\n",
    "    print(int(res_R * res_C))\n",
    "elif R % N == 0 and C % N != 0:\n",
    "    R_mod = R\n",
    "    C_mod = (C - C % N) + N\n",
    "    res_R = R_mod / N\n",
    "    res_C = C_mod / N\n",
    "    print(int(res_R * res_C))\n"
   ]
  },
  {
   "cell_type": "code",
   "execution_count": null,
   "metadata": {},
   "outputs": [],
   "source": [
    "# No - 8710\n",
    "# 시간 초과 나온다...pypy3로 바꿔서 성공\n",
    "orig_height, wish_height, bump = map(int, input().split())\n",
    "count = 0\n",
    "while orig_height < wish_height:\n",
    "    orig_height += bump\n",
    "    count += 1\n",
    "print(count)"
   ]
  },
  {
   "cell_type": "code",
   "execution_count": null,
   "metadata": {},
   "outputs": [],
   "source": [
    "# No - 11257\n",
    "num = int(input())\n",
    "\n",
    "for i in range(num):\n",
    "    student_num, strategy, management, technology = map(int, input().split())\n",
    "    total = strategy + management + technology\n",
    "    if total >= 55 and strategy >= 35 * 30 / 100 and management >= 25 * 30 / 100 and technology >= 40 * 30 / 100:\n",
    "        print(str(student_num), total, \"PASS\")\n",
    "    else:\n",
    "        print(str(student_num), total, \"FAIL\")"
   ]
  },
  {
   "cell_type": "code",
   "execution_count": null,
   "metadata": {},
   "outputs": [],
   "source": [
    "# No - 17356\n",
    "uk, je = map(int, input().split())\n",
    "m = (je - uk) / 400\n",
    "prob = 1 / (1+10**m)\n",
    "print(prob)"
   ]
  },
  {
   "cell_type": "code",
   "execution_count": null,
   "metadata": {},
   "outputs": [],
   "source": [
    "# No - 17009\n",
    "'''문제\n",
    "\n",
    "당신은 농구 게임의 모든 점수를 기록합니다. 점수는 3점 슛, 2점 필드 골, 1점 자유투로 획득할 수 있습니다.\n",
    "\n",
    "당신은 다음 두 팀이 어떤 득점을 몇 번 했는지 알고 있습니다: 팀 사과와 팀 바나나. \n",
    "당신의 목표는 무슨 팀이 이겼는지, 혹은 경기가 무승부로 끝났는지 판정하는 것입니다.\n",
    "\n",
    "입력\n",
    "\n",
    "첫 세 줄은 팀 사과의 득점을, 다음 세 줄은 팀 바나나의 득점을 서술합니다. \n",
    "각각의 팀에 대해 첫 줄은 3점 슛 성공 횟수를, \n",
    "둘째 줄은 2점 필드 골 성공 횟수를, 셋째 줄은 1점 자유투 성공 횟수를 의미합니다. \n",
    "각 숫자는 0과 100을 포함한 범위 내의 정수입니다.\n",
    "\n",
    "출력\n",
    "\n",
    "하나의 문자를 출력합니다. 팀 사과가 팀 바나나보다 많은 점수를 냈을 경우, 'A'를 출력합니다.\n",
    "팀 바나나가 팀 사과보다 많은 점수를 냈을 경우, 'B'를 출력합니다. \n",
    "그 외의 경우에는 무승부를 의미하는 'T'를 출력합니다.'''\n",
    "scores = []\n",
    "for i in range(6):\n",
    "    score = int(input())\n",
    "    scores.append(score)\n",
    "\n",
    "\n",
    "a_total_score = 3*scores[0] + 2*scores[1] + scores[2]\n",
    "b_total_score = 3*scores[3] + 2*scores[4] + scores[5]\n",
    "if a_total_score > b_total_score:\n",
    "    print('A')\n",
    "elif b_total_score > a_total_score:\n",
    "    print('B')\n",
    "else:\n",
    "    print('T')"
   ]
  },
  {
   "cell_type": "code",
   "execution_count": null,
   "metadata": {},
   "outputs": [],
   "source": [
    "# No - 23825\n",
    "N, M = map(int, input().split())\n",
    "\n",
    "print(min(N // 2, M // 2))"
   ]
  },
  {
   "cell_type": "code",
   "execution_count": null,
   "metadata": {},
   "outputs": [],
   "source": [
    "# No - 25191\n",
    "N = int(input())\n",
    "cola, beer = map(int, input().split())\n",
    "eatable = cola / 2  + beer\n",
    "\n",
    "if N > eatable:\n",
    "    print(int(eatable))\n",
    "else:\n",
    "    print(N)"
   ]
  },
  {
   "cell_type": "code",
   "execution_count": null,
   "metadata": {},
   "outputs": [],
   "source": [
    "# No - 24883\n",
    "char = input()\n",
    "\n",
    "if char == 'N' or char == 'n':\n",
    "    print('Naver D2')\n",
    "else:\n",
    "    print('Naver Whale')"
   ]
  },
  {
   "cell_type": "code",
   "execution_count": null,
   "metadata": {},
   "outputs": [],
   "source": [
    "# No - 23795\n",
    "sum_money = 0\n",
    "num = 0\n",
    "while True:\n",
    "    if num == -1:\n",
    "        break\n",
    "    num = int(input())\n",
    "    sum_money += num\n",
    "print(sum_money+1)"
   ]
  },
  {
   "cell_type": "code",
   "execution_count": null,
   "metadata": {},
   "outputs": [],
   "source": [
    "# No - 24723\n",
    "cube = int(input())\n",
    "print(2**cube)"
   ]
  },
  {
   "cell_type": "code",
   "execution_count": null,
   "metadata": {},
   "outputs": [],
   "source": [
    "# No - 8723\n",
    "'''문제\n",
    "바이투스는 숲에서 막대기 3개를 발견했습니다. 그는 막대기로 직각삼각형이나 정삼각형을 만들 수 있는지 궁금합니다. 바이투스는 막대기를 부러뜨릴 수 없으며, 그대로만 사용할 수 있습니다.\n",
    "\n",
    "입력\n",
    "첫 줄에 각각 첫 번째 막대, 두 번째 막대, 세 번째 막대의 길이를 나타내는 세 정수 a, b, c (1 <= a, b, c <= 1000)가 주어집니다.\n",
    "\n",
    "출력\n",
    "오로지 한 줄에 하나의 숫자를 출력합니다: 바이투스가 직각삼각형이나 정삼각형을 만들 수 없다면 0, 직각삼각형만 만들 수 있다면 1, 정삼각형만 만들 수 있다면 2를 출력합니다.'''\n",
    "\n",
    "a, b, c = map(int, input().split())\n",
    "if a == b == c:\n",
    "    print(2)\n",
    "elif a**2+b**2 == c**2 or a**2+c**2 == b**2 or b**2+c**2 == a**2:\n",
    "    print(1)\n",
    "else:\n",
    "    print(0)"
   ]
  },
  {
   "cell_type": "code",
   "execution_count": null,
   "metadata": {},
   "outputs": [],
   "source": [
    "# No - 8760\n",
    "'''문제\n",
    "헥토르가 HektorJudge 프로젝트를 하는 동안, 동료 빅토르는 컴퓨터 앞에만 앉아 있기에는 인생이 아깝다 생각해 등산 여행을 갔습니다.\n",
    "저녁에 대피소에 도착한 후, 그는 주말을 산에서 보내겠다는 생각을 한 게 자신만이 아니라는 것에 놀랐습니다 - 대피소는 여행객으로 가득 차 있었습니다!\n",
    "예기치 못한 상황이 닥치자, 대피소 관리자는 하루 동안 여행객을 대피소 본관에 질서 있게 배정하는 임무를 맡게 됐습니다.\n",
    "본관은 정사각형 모양의 구역이 W개의 열과 K개의 행을 이루는 W * K 크기의 직사각형 공간입니다. \"각 여행객은 (가로든 세로든) 인접한 두 구역\"을 차지합니다.\n",
    "본관의 크기가 주어지고 한 구역을 최대 한 명의 여행객에 배정한다고 할 때, 최대 몇 명의 여행객을 본관에 배정할 수 있습니까?\n",
    "컴퓨터 과학자이자 수학자인 빅토르는 단숨에 정확한 답을 도출했습니다.\n",
    "\n",
    "입력\n",
    "테스트 케이스의 수를 나타내는 자연수 Z (1 <= Z <= 10)가 첫 줄에 주어집니다. 이후 테스트 케이스가 묘사됩니다.\n",
    "한 줄의 테스트 케이스에 두 양의 정수 W, K(1 <= W, K <= 1000)가 하나의 공백을 두고 주어집니다.\n",
    "\n",
    "출력\n",
    "각 테스트 케이스에 대해, 하루 동안 동시에 본관에 머무를 수 있는 최대 여행객의 수를 별개의 줄에 출력합니다. 입력에 주어진 테스트 케이스의 순서에 맞춰 출력해야 합니다.'''\n",
    "test = int(input())\n",
    "for i in range(test):\n",
    "    w, k = map(int, input().split())\n",
    "    room = w*k // 2\n",
    "    print(room)"
   ]
  },
  {
   "cell_type": "code",
   "execution_count": null,
   "metadata": {},
   "outputs": [],
   "source": [
    "# No - 8718\n",
    "# 별 문제가 아닌데 너무 헤맸다...\n",
    "'''문제\n",
    "추운 겨울, 카시아와 아시아가 공원에 갔습니다. 겨울이라 공원은 눈으로 덮여 있는데, 보다 정확히 말하자면 x liter의 눈이 공원 안에 쌓여있습니다.\n",
    "아시아가 전화를 하는 동안 카시아는 눈사람을 만들기로 했습니다. 아시아가 전화를 끝낼 즈음, 카시아는 이미 k liter의 눈으로 공을 하나 만들었습니다.\n",
    "\n",
    "아시아는 3개의 눈 덩어리로 눈사람을 만들고, 추가적으로 공 위에 올려지는 공은 그 아래의 공보다 두 배 작은 크기 (절반의 부피)가 되기를 원합니다.\n",
    "아시아는 카시아가 화날 수 있기에 카시아가 만든 공을 보다 크거나 작게 만들 수는 없습니다.\n",
    "\n",
    "여러분, 소녀들은 가능한 가장 큰 눈사람을 만들고 싶습니다. 그들은 그들의 눈사람이 몇 mL (milli-liter)의 눈으로 만들어질지 궁금해 합니다.\n",
    "\n",
    "입력\n",
    "첫 줄에 각각 공원에 있는 눈의 양과 눈사람을 이루는 하나의 공에 쓰인 눈의 양을 L로 표현한 값인 x와 k (1 <= x <= 10 ^ 6, 1 <= k <= 10 ^ 5, k < x)가 주어집니다.\n",
    "\n",
    "출력\n",
    "딱 한 줄에 눈사람의 최대 크기를 나타내는 하나의 정수를 출력합니다. (결과를 mL 단위로 출력합시다.)\n",
    "\n",
    "역자 추가 - 눈사람을 만들 수 없을 경우, 0을 출력합니다.'''\n",
    "\n",
    "x, k = map(int, input().split())\n",
    "smallest = 7000*k\n",
    "middle = 3500*k\n",
    "largest = 1750*k\n",
    "\n",
    "if smallest <= 1000*x:\n",
    "    print(smallest)\n",
    "elif middle <= 1000*x:\n",
    "    print(middle)\n",
    "elif largest <= 1000*x:\n",
    "    print(largest)\n",
    "else:\n",
    "    print(0)"
   ]
  },
  {
   "cell_type": "code",
   "execution_count": null,
   "metadata": {},
   "outputs": [],
   "source": [
    "# No - 13118\n",
    "p1, p2, p3, p4 = map(int, input().split())\n",
    "x, y, r = map(int, input().split())\n",
    "person = [p1, p2, p3, p4]\n",
    "\n",
    "if x in person:\n",
    "    print(person.index(x)+1)\n",
    "else:\n",
    "    print(0)"
   ]
  },
  {
   "cell_type": "code",
   "execution_count": null,
   "metadata": {},
   "outputs": [],
   "source": [
    "# No - 13496\n",
    "'''문제\n",
    "\"베니스의 상인\"에는 가장 흥미로운 \"악당\" 중 하나로 기독교도에게 여러 차례 다양한 방식으로 된통 당하는 유대인 고리대금업자 샤일록과, 말만 상인인 안토니오가 등장합니다. 안토니오의 친구 바사니오가 사랑하는 여인에게 구애하기 위해 3000 두카트를 급하게 필요로 할 때, 안토니오의 돈은 무역선에 묶여 있었습니다; 대신 그는 샤일록에게 기한까지 3000 두카트를 돌려주지 못할 경우 살 1파운드를 주겠다는 계약을 하죠. 돌풍으로 함선이 침몰하며 이야기는 불길한 방향으로 흥미진진해집니다.\n",
    "이 문제에서 무역선이 얼마 정도를 벌어올 수 있는지, 기한까지 돈을 못 갚을 가능성은 얼마인지 등 안토니오가 해야 했던 위기 분석은 무시합시다. 대신 계약을 맺을 때 무역선의 위치에 따라 기한까지 안토니오가 샤일록에게 얼마를 갚을 수 있었는지에 초점을 맞춰보려 합니다.\n",
    "당신에게는 기한까지 남은 일 수와 무역선이 항해하는 속도가 주어집니다. 또한 각 배가 베니스로부터 얼마나 떨어져 있는지와 각 배에 몇 두카트가 있는지도 주어집니다. 기한까지 안토니오가 갚을 수 있는 두카트의 값을 출력합시다.\n",
    "\n",
    "입력\n",
    "첫 줄에 데이터의 수를 나타내는 K >= 1이 주어집니다. 이후 아래의 형식으로 K개의 데이터가 주어집니다:\n",
    "데이터의 첫 줄에 세 정수 n, s, d가 주어집니다; 0 <= n <= 200은 안토니오가 소유한 무역선의 수, 1 <= s <= 100은 배의 속도를 일당 마일로 표시한 값, 1 <= d <= 365는 기한까지 남은 일 수입니다.\n",
    "다음 n개의 줄에 두 정수 di, vi가 주어집니다. 0 <= di <= 1000는 배 i에서 베니스까지의 거리를 마일로 나타낸 값,  0 <= vi <= 100000는 배 i에 있는 두카트의 값입니다.\n",
    "\n",
    "출력\n",
    "각 데이터에 대해 x가 데이터 번호인 \"Data Set x:\"를 별개의 줄에 출력합니다. 이후 안토니오가 d일 후 샤일록에게 갚을 수 있는 두카트의 값을 출력합니다. 배가 정확히 d일 후에 도착한 경우에도, 안토니오가 수하물을 샤일록에게 갚는 데 사용할 수 있다고 가정합시다.\n",
    "각 데이터 뒤에는 공백 한 줄이 이어집니다.'''\n",
    "\n",
    "k = int(input())\n",
    "\n",
    "for i in range(k):\n",
    "    n, s, d = map(int, input().split())\n",
    "    ducat = 0\n",
    "    for j in range(n):\n",
    "        di, vi = map(int, input().split())\n",
    "        days = di / s\n",
    "        if d >= days:\n",
    "            ducat += vi\n",
    "        else:\n",
    "            ducat = ducat\n",
    "    print(f\"Data Set {i+1}:\")\n",
    "    print(ducat)\n",
    "    print()\n"
   ]
  },
  {
   "cell_type": "code",
   "execution_count": null,
   "metadata": {},
   "outputs": [],
   "source": [
    "# No - 13580\n",
    "a, b, c = map(int, input().split())\n",
    "if a == 0 or b == 0 or c == 0:\n",
    "    print(\"S\")\n",
    "elif a == b or b == c or a == c:\n",
    "    print(\"S\")\n",
    "elif a+b-c == 0 or a+c-b == 0 or b+c-a == 0:\n",
    "    print(\"S\")\n",
    "else:\n",
    "    print(\"N\")"
   ]
  },
  {
   "cell_type": "code",
   "execution_count": null,
   "metadata": {},
   "outputs": [],
   "source": [
    "# No - 13623\n",
    "A, B, C = map(int, input().split())\n",
    "\n",
    "if A == B == C == 0 or A == B == C == 1:\n",
    "    print('*')\n",
    "elif A == B:\n",
    "    print('C')\n",
    "elif B == C:\n",
    "    print('A')\n",
    "elif C == A:\n",
    "    print('B')"
   ]
  },
  {
   "cell_type": "code",
   "execution_count": null,
   "metadata": {},
   "outputs": [],
   "source": [
    "# No - 15474\n",
    "'''문제\n",
    "JOI 군은 연필을 N개 사기 위해 가까운 문방구에 가기로 했습니다.\n",
    "문방구에서는 연필을 일정 개수를 묶은 세트로 판매하고 있습니다. \n",
    "세트 X는 연필 A개로 이루어져 B엔, 세트 Y는 연필 C개로 이루어져 D엔입니다.\n",
    "JOI 군은 세트 X와 세트 Y 중 하나를 골라, 고른 세트를 몇 개 구매합니다. \n",
    "양쪽의 세트를 모두 구입하는 것은 불가능합니다. \n",
    "N개 이상의 연필을 갖기 위해 필요한 금액의 최솟값을 구합시다.\n",
    "\n",
    "입력\n",
    "아래의 형식으로 표준 입력이 주어집니다.\n",
    "N A B C D\n",
    "\n",
    "출력\n",
    "JOI 군이 N개 이상의 연필을 사기 위해 필요한 금액의 최솟값을 출력합니다.\n",
    "\n",
    "입력 예시 1\n",
    "10 3 100 5 180\n",
    "'''\n",
    "\n",
    "N, A, B, C, D= map(int, input().split())\n",
    "case_1 = (N//A + (1 if N%A else 0)) * B\n",
    "case_2 = (N//C + (1 if N%C else 0)) * D\n",
    "\n",
    "print(min(case_1, case_2))\n",
    "\n",
    "'''\n",
    "math library를 사용하는 법: \n",
    "하지만 n를 a로 나누어지지 않을 경우 한 개의 세트를 더 구입해야 한다. \n",
    "나눠지지 않는다는 것은 n/a 했을 때 소수점이 발생하므로 math.ceil(n/a)를 이용한다.\n",
    " \n",
    "math.ceil(3.1) = 4, math.ceil(3.0) = 3 이므로 나누어지지 않을 때\n",
    "한 개의 세트를 더 구입하는 상황을 처리할 수 있다.\n",
    "'''"
   ]
  },
  {
   "cell_type": "code",
   "execution_count": null,
   "metadata": {},
   "outputs": [],
   "source": [
    "# No - 16017\n",
    "'''문제\n",
    "상업 행위를 염려하는 시민 단체(CCC)는 마지막 네 자리에 세 가지의 특성이 있는 일곱 자리 전화번호가 스팸 전화에 이용됨을 발견했습니다. 마지막 네 자리의 특성은 아래와 같습니다:\n",
    "\n",
    "- 네 자리 중 첫 번째 자리가 8 또는 9\n",
    "- 마지막 자리 또한 8 또는 9\n",
    "- 두 번째 자리와 세 번째 자리는 같음.\n",
    "\n",
    "예를 들어, 전화번호 마지막 네 자리가 8229, 8338, 9008이라면 이 번호는 스팸 번호입니다.\n",
    "마지막 네 자리를 이용해 핸드폰 번호가 스팸 번호인지 아닌지 판단하는 프로그램을 작성합시다. \n",
    "번호가 스팸 번호가 아니라면 전화를 받고, 그렇지 않다면 무시하면 됩니다.\n",
    "\n",
    "입력\n",
    "각 줄에 0부터 9까지 자릿수 하나가 들어오는 네 줄 입력이 주어집니다.\n",
    "\n",
    "출력\n",
    "번호가 스팸 번호 패턴과 일치한다면 ignore을, 그렇지 않으면 answer을 출력합니다.'''\n",
    "\n",
    "phone_numbers = []\n",
    "for i in range(4):\n",
    "    a = int(input())\n",
    "    phone_numbers.append(a)\n",
    "    \n",
    "if (phone_numbers[0] == 8 or phone_numbers[0] == 9) and \\\n",
    "(phone_numbers[3] == 8 or phone_numbers[3] == 9) and \\\n",
    "(phone_numbers[1] == phone_numbers[2]):\n",
    "    print('ignore')\n",
    "else:\n",
    "    print('answer')"
   ]
  },
  {
   "cell_type": "code",
   "execution_count": null,
   "metadata": {},
   "outputs": [],
   "source": [
    "# No - 18411\n",
    "\n",
    "exam = list(map(int, input().split()))\n",
    "\n",
    "exam_list = sorted(exam)\n",
    "res = exam_list[1] + exam_list[2]\n",
    "print(res)"
   ]
  },
  {
   "cell_type": "code",
   "execution_count": null,
   "metadata": {},
   "outputs": [],
   "source": [
    "# No - 25628\n",
    "bread, patti = map(int, input().split())\n",
    "\n",
    "if bread <= 0 or patti == 0:\n",
    "    print(0)\n",
    "elif bread // 2 >= patti:\n",
    "    print(patti)\n",
    "else:\n",
    "    print(bread//2)"
   ]
  },
  {
   "cell_type": "code",
   "execution_count": null,
   "metadata": {},
   "outputs": [],
   "source": [
    "# No - 13597\n",
    "\"\"\"문제\n",
    "\n",
    "트라이두는 유명한 게임 트루코에서 파생된 카드 게임입니다.\n",
    "게임은 52개의 카드로 이루어진 표준 카드 팩을 사용하며, 13개의 카드가 한 문양 세트를 이루지만 문양은 무시됩니다.\n",
    "1부터 13까지의 정수로 이루어진 카드의 숫자만이 의미를 지닙니다.\n",
    "\n",
    "게임에서 플레이어는 세 장의 카드를 받습니다. 규칙은 간단합니다.\n",
    "\n",
    "- (같은 숫자 세 개로 이루어진) 쓰리 카드는 (같은 숫자 두 개로 이루어진) 페어를 이깁니다.\n",
    "- 더 높은 숫자로 이루어진 쓰리 카드가 더 낮은 숫자로 이루어진 쓰리 카드를 이깁니다.\n",
    "- 더 높은 숫자로 이루어진 페어가 더 낮은 숫자로 이루어진 페어를 이깁니다.\n",
    "\n",
    "많은 경우 게임의 승자가 가려지지 않음을 명심합시다; 이 경우, 사용한 카드를 포함해 카드를 다시 섞어 새 게임을 진행합니다.\n",
    "플레이어는 이미 받아야 하는 카드 중 두 장을 받았고, 그 숫자까지 압니다.\n",
    "당신의 목표는 플레이어가 승리할 확률을 최대로 만드는 세 번째 카드의 값을 판단하는 것입니다.\n",
    "\n",
    "입력\n",
    "한 줄에 처음 받은 두 카드의 값을 의미하는 두 정수 A(1 <= A <= 13)와 B (1 <= B <= 13)가 주어집니다.\n",
    "\n",
    "출력\n",
    "당신의 프로그램은 플레이어가 승리할 가능성을 최대로 만드는 카드의 값을 나타내는 정수를 한 줄에 출력합니다.\"\"\"\n",
    "\n",
    "first, second = map(int, input().split())\n",
    "third = 0\n",
    "if first == second:\n",
    "    third = first\n",
    "    print(third)\n",
    "elif first > second:\n",
    "    third = first\n",
    "    print(third)\n",
    "elif first < second:\n",
    "    third = second\n",
    "    print(third)"
   ]
  },
  {
   "cell_type": "code",
   "execution_count": null,
   "metadata": {},
   "outputs": [],
   "source": [
    "# No - 14038\n",
    "\"\"\"문제\n",
    "\n",
    "대회의 각 선수는 6경기를 치릅니다. 무승부는 없습니다. 대회 기획자는 경기 결과에 따라 선수를 아래와 같은 그룹으로 분류합니다:\n",
    "\n",
    "- 선수가 5~6경기를 이길 경우, 그룹 1에 배치합니다;\n",
    "- 선수가 3~4경기를 이길 경우, 그룹 2에 배치합니다;\n",
    "- 선수가 1~2경기를 이길 경우, 그룹 3에 배치합니다;\n",
    "- 선수가 한 경기도 못 이겼을 경우, 대회에서 탈락합니다\n",
    "\n",
    "선수가 어떤 그룹에 속하는지 판정하는 프로그램을 작성합시다.\n",
    "\n",
    "입력\n",
    "입력은 여섯 줄로 주어지며, 각 줄에는 (승리를 의미하는) W와 (패배를 의미하는) L 중 하나의 문자가 주어집니다.\n",
    "\n",
    "출력\n",
    "(선수가 속하는 그룹이 되는) 1, 2, 3 또는 (선수가 탈락했음을 의미하는) -1을 출력합니다.\"\"\"\n",
    "\n",
    "win_list = []\n",
    "for i in range(6):\n",
    "    win = input()\n",
    "    win_list.append(win)\n",
    "\n",
    "if win_list.count(\"W\") >= 5:\n",
    "    print(1)\n",
    "elif win_list.count(\"W\") >= 3:\n",
    "    print(2)\n",
    "elif win_list.count(\"W\") >= 1:\n",
    "    print(3)\n",
    "else:\n",
    "    print(-1)"
   ]
  },
  {
   "cell_type": "code",
   "execution_count": null,
   "metadata": {},
   "outputs": [],
   "source": [
    "# No - 14065\n",
    "\"\"\"문제\n",
    "\n",
    "미르코는 최근 미국으로 여행을 가 하얀 줄무늬, 자동 변속기, 내비게이션, 그리고... 영어 계기판과 영국식 도량형을 장착한 오렌지색 미국 차를 빌렸습니다.\n",
    "그를 가장 당황스럽게 한 것은 연료 소모량이 1갤런 당 마일 단위로 표시되어 차가 실제로 가솔린을 얼마나 \"잡아먹는지\" 알기 어렵다는 점이었습니다.\n",
    "\n",
    "연료 소모량을 1갤런당 마일에서 100km당 L로 변환하는 프로그램을 작성합시다.\n",
    "참고: 1갤런은 정확히 3.785411784L이며, 1마일은 정확히 1609.344m입니다.\n",
    "\n",
    "입력\n",
    "딱 한 줄에 미르코의 차가 1갤런 당 몇 마일을 가는지 나타내는 소수 두 자리 수 x (1 <= x <= 1000)가 주어집니다.\n",
    "\n",
    "출력\n",
    "차가 100km 당 몇 L를 소비하는지 나타내는 하나의 소수를 출력합니다. 정답으로부터의 절대 오차 또는 상대 오차는 10 ^ (-6)까지 허용됩니다.\"\"\"\n",
    "input_num = float(input())\n",
    "m_per_L = 1609.344/3.785411784\n",
    "L_per_m = 1 / m_per_L\n",
    "to_100_km = 1000 * 100 * L_per_m\n",
    "res = to_100_km / input_num\n",
    "print('{0:.6f}'.format(res))"
   ]
  },
  {
   "cell_type": "code",
   "execution_count": null,
   "metadata": {},
   "outputs": [],
   "source": [
    "# No - 18398\n",
    "test_case = int(input())\n",
    "for i in range(test_case):\n",
    "    problems = int(input())\n",
    "    for j in range(problems):\n",
    "        numbers_1, numbers_2 = map(int, input().split())\n",
    "        print(numbers_1+numbers_2, numbers_1*numbers_2)"
   ]
  },
  {
   "cell_type": "code",
   "execution_count": null,
   "metadata": {},
   "outputs": [],
   "source": [
    "# No - 15610\n",
    "\"\"\"문제\n",
    "\n",
    "연마다 돌아오는 배스의 크리스마스 시장은 2017년 11월 23일부터 2017년 12월 10일까지 계속됩니다. 이 기간 동안, 시장은 배스 수도원 속 정사각형 형태의 뜰 전체를 사용할 것입니다.\n",
    "밤을 환히 밝히기 위해, 한 줄로 된 화려한 축제 불빛이 뜰의 동일한 길이의 네 변을 따라 설치될 것입니다.\n",
    "당신은 불빛을 붙일 전선을 사야 합니다. 크리스마스 시장을 축제 불빛으로 감싸기 위해 얼마만큼 전선이 필요합니까?\n",
    "\n",
    "입력\n",
    "입력은 아래의 내용을 포함합니다.\n",
    "- 뜰의 넓이를 제곱m 기준으로 나타낸 하나의 정수 a (1 <= a <= 10 ^ 18)가 한 줄에 주어집니다.\n",
    "\n",
    "출력\n",
    "m 기준으로 시장에 필요한 전선의 총 길이를 출력합니다. 길이는 정답과 최대 10 ^ (-6)의 절대 또는 상대 오차를 가질 수 있습니다.\"\"\"\n",
    "\n",
    "square = int(input())\n",
    "length = 4 * square**0.5\n",
    "print(length)"
   ]
  },
  {
   "cell_type": "code",
   "execution_count": null,
   "metadata": {},
   "outputs": [],
   "source": [
    "# No - 15025\n",
    "\"\"\"문제\n",
    "무스의 나이는 가장 큰 뿔에서 뻗어 나온 가지(뾰족한 부분)의 수로 확인할 수 있습니다. 나이가 많은 무스는 보통 나이가 어린 무스보다 많은 가지를 지니고 있습니다. \n",
    "하지만 다른 무스와 싸우거나 할 때 가지가 손상될 수 있으므로, 가지의 수만 가지고 판단하는 것은 정확하지 않습니다. 따라서 무스의 뿔에는 포인트 시스템이 적용됩니다.\n",
    "포인트 시스템은 아래와 같습니다: 만약 왼쪽과 오른쪽의 가지 수가 같다면, 그 무스는 짝수 포인트 합을 지녔다고 말합니다. \n",
    "따라서 \"짝수 6포인트 무스\"는 양쪽에 3개의 가지를 가진 무스입니다. \n",
    "만약 무스의 왼쪽과 오른쪽 가지 수가 다르다면, 그 무스는 가지가 많은 쪽을 기준으로 2배 값의 홀수 포인트 합을 지닌다고 말합니다. \n",
    "따라서 \"홀수 10포인트 무스\"는 한쪽에 5개의 가지가 있고, 반대쪽에 4개 이하의 가지가 있는 무스입니다.\n",
    "\n",
    "왼쪽과 오른쪽 가지의 수가 주어졌을 때, 무스가 어떤 포인트를 지니는지 알 수 있습니까?\n",
    "\n",
    "입력\n",
    "한 줄에 두 정수 l, r이 주어지는데, 0 <= l <= 20은 왼쪽 가지의 수를, 0 <= r <= 20은 오른쪽 가지의 수를 뜻합니다.\n",
    "\n",
    "출력\n",
    "무스를 표현하는 한 줄을 출력합니다. 짝수 포인트 무스에 대해서는, 무스가 x포인트라 할 때 \"Even x\"를 출력합니다. \n",
    "홀수 포인트 무스에 대해서는, 무스가 x포인트라 할 때 \"Odd x\"를 출력합니다. 무스가 가지를 가지고 있지 않다면, \"Not a moose\"를 출력합니다. \"\"\"\n",
    "\n",
    "l, r = map(int, input().split())\n",
    "if (l == r) and (l > 0 and r > 0):\n",
    "    print(\"Even {0}\".format(l+r))\n",
    "elif l > r:\n",
    "    print(\"Odd {0}\".format(l*2))\n",
    "elif l < r:\n",
    "    print(\"Odd {0}\".format(r*2))\n",
    "else:\n",
    "    print(\"Not a moose\")"
   ]
  },
  {
   "cell_type": "code",
   "execution_count": null,
   "metadata": {},
   "outputs": [],
   "source": [
    "# No - 14264\n",
    "import math\n",
    "length = int(input())\n",
    "\n",
    "area = (math.sqrt(3) / 4) * length**2\n",
    "print(area)"
   ]
  },
  {
   "cell_type": "code",
   "execution_count": null,
   "metadata": {},
   "outputs": [],
   "source": [
    "# No - 26068\n",
    "coupons = int(input())\n",
    "\n",
    "coupon_list = []\n",
    "for i in range(coupons):\n",
    "    coupon = input()\n",
    "    coupon = coupon.strip(\"D-\")\n",
    "    coupon_list.append(int(coupon))\n",
    "\n",
    "count = 0\n",
    "for i in coupon_list:\n",
    "    if i <= 90:\n",
    "        count += 1\n",
    "print(count)"
   ]
  },
  {
   "cell_type": "code",
   "execution_count": null,
   "metadata": {},
   "outputs": [],
   "source": [
    "# No - 25377\n",
    "# Not yet solved!\n",
    "N = int(input())\n",
    "\n",
    "m = []\n",
    "r = []\n",
    "diff = []\n",
    "for i in range(N):\n",
    "    m, r = map(int, input().split())\n",
    "    diff.append(m-r)\n",
    "\n",
    "for i in diff:\n",
    "    if i > 0:\n",
    "        print(-1)\n",
    "    else:"
   ]
  },
  {
   "cell_type": "code",
   "execution_count": null,
   "metadata": {},
   "outputs": [],
   "source": [
    "# No - 14173\n",
    "# Not yet solved!\n",
    "\"\"\"문제\n",
    "\n",
    "농부 존은 농장의 모양을 단순화하기로 다짐했습니다. 예전에 그의 소는 울타리로 둘러싸인 두 개의 직사각형 초원에서 풀을 뜯었습니다.\n",
    "농부 존은 이것을 그전에 울타리로 둘러싸인 공간을 모두 포함하는 최소 크기의 하나의 정사각형 초원으로 만들려고 합니다. \n",
    "제대로 배치만 한다면 과거에 소가 풀을 뜯었던 두 옛 직사각형 초원을 모두 포함할 수 있도록, 농부 존을 도와 새 정사각형 초원의 최소 넓이를 구합시다.\n",
    "정사각형 초원의 변은 x축과 y축에 평행이어야 합니다.\n",
    "\n",
    "입력\n",
    "첫 줄에 각각 0부터 10 중 하나의 값을 지닌 공백으로 구분된 네 정수 x1 y1 x2 y2가, 원래 있던 직사각형 초원 중 하나를 나타냅니다.\n",
    "x2 > x1이고 y2 > y1임은 보장되며 직사각형 초원 하나의 왼쪽 아래 끝은 (x1, y1), 오른쪽 위 끝은 (x2, y2)입니다.\n",
    "둘째 줄에도 첫 줄과 같은 형식으로 네 정수가 주어져 원래 있던 직사각형 초원 중 나머지 하나를 나타냅니다. 이 초원이 첫 번째 초원과 동일하거나 그 초원과 겹치지 않음은 보장됩니다.\n",
    "\n",
    "출력\n",
    "한 줄에 원래 있던 두 직사각형 초원을 모두 포함하는 정사각형 초원의 최소 넓이를 출력합니다.\"\"\"\n",
    "l_x1, l_y1, l_x2, l_y2 = map(int, input().split())  # 6 6 8 8\n",
    "r_x1, r_y1, r_x2, r_y2 = map(int, input().split())  # 1 8 4 9\n",
    "\n",
    "diff_lx = l_x2 - l_x1  # 8-6 = 2\n",
    "diff_rx = r_x2 - r_x1  # 4-1 = 3\n",
    "diff_ly = l_y2 - l_y1  # 8-6 = 2\n",
    "diff_ry = r_y2 - r_y1  # 9-8 = 1\n",
    "\n",
    "res_x = max(diff_lx, diff_rx)\n",
    "res_y = max(diff_ly, diff_ry)\n",
    "\n",
    "if res_x >= res_y:\n",
    "    print(res_x**2)\n",
    "else:\n",
    "    print(res_y**2)\n"
   ]
  }
 ],
 "metadata": {
  "kernelspec": {
   "display_name": "Python 3.9.15 ('base')",
   "language": "python",
   "name": "python3"
  },
  "language_info": {
   "codemirror_mode": {
    "name": "ipython",
    "version": 3
   },
   "file_extension": ".py",
   "mimetype": "text/x-python",
   "name": "python",
   "nbconvert_exporter": "python",
   "pygments_lexer": "ipython3",
   "version": "3.9.15"
  },
  "orig_nbformat": 4,
  "vscode": {
   "interpreter": {
    "hash": "40d3a090f54c6569ab1632332b64b2c03c39dcf918b08424e98f38b5ae0af88f"
   }
  }
 },
 "nbformat": 4,
 "nbformat_minor": 2
}
