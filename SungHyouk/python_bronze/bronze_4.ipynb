{
 "cells": [
  {
   "cell_type": "code",
   "execution_count": null,
   "metadata": {},
   "outputs": [],
   "source": [
    "# No - 1264\n",
    "\n",
    "while True:\n",
    "    i = 0\n",
    "    string = input()\n",
    "    if \"#\" in string:\n",
    "        break\n",
    "    string = string.lower()\n",
    "    for char in string:\n",
    "        if char in 'aeiou':\n",
    "            i += 1\n",
    "    print(i)"
   ]
  },
  {
   "cell_type": "code",
   "execution_count": null,
   "metadata": {},
   "outputs": [],
   "source": [
    "# No - 4470\n",
    "line_no = int(input())\n",
    "i = 1\n",
    "while i <= line_no:\n",
    "    string = input()\n",
    "    print(f'{i}. {string}')\n",
    "    i += 1"
   ]
  },
  {
   "cell_type": "code",
   "execution_count": null,
   "metadata": {},
   "outputs": [],
   "source": [
    "# No - 5524\n",
    "name_no = int(input())\n",
    "i = 0\n",
    "while i < name_no:\n",
    "    string = input().lower()\n",
    "    print(string)\n",
    "    i += 1"
   ]
  },
  {
   "cell_type": "code",
   "execution_count": null,
   "metadata": {},
   "outputs": [],
   "source": [
    "# No - 11365\n",
    "\n",
    "while True:\n",
    "    string = input()\n",
    "    if string == \"END\":\n",
    "        break\n",
    "    print(string[-1::-1])"
   ]
  },
  {
   "cell_type": "code",
   "execution_count": null,
   "metadata": {},
   "outputs": [],
   "source": [
    "# No - 11945\n",
    "N, M = map(int, input().split())\n",
    "i = 0\n",
    "while i < N:\n",
    "    i += 1\n",
    "    koi = input()\n",
    "    print(koi[-1::-1])"
   ]
  },
  {
   "cell_type": "code",
   "execution_count": null,
   "metadata": {},
   "outputs": [],
   "source": [
    "# No - 10808\n",
    "# 소문자 a의 아스키 코드는 97이다.\n",
    "S = input()\n",
    "word_list = [0] * 26\n",
    "for char in S:\n",
    "    word_list[ord(char) - 97] += 1\n",
    "for i in word_list:\n",
    "    print(i, end=' ')"
   ]
  },
  {
   "cell_type": "code",
   "execution_count": null,
   "metadata": {},
   "outputs": [],
   "source": [
    "# No - 2440\n",
    "num = int(input())\n",
    "\n",
    "for i in range(num, 0, -1):\n",
    "    print('*' * i, sep='')"
   ]
  },
  {
   "cell_type": "code",
   "execution_count": null,
   "metadata": {},
   "outputs": [],
   "source": [
    "# No - 2083\n",
    "while True:\n",
    "    name, age, kg = input().split()\n",
    "    if name == '#' or kg == '0' or age == '0':\n",
    "        break\n",
    "    if int(kg) >= 80 or int(age) > 17:\n",
    "        print(name, \"Senior\", sep=' ')\n",
    "    else:\n",
    "        print(name, \"Junior\", sep=' ')"
   ]
  },
  {
   "cell_type": "code",
   "execution_count": null,
   "metadata": {},
   "outputs": [],
   "source": [
    "# No - 2845\n",
    "L, P = map(int, input().split())\n",
    "papers = list(map(int, input().split()))\n",
    "total = L * P\n",
    "for no in range(len(papers)):\n",
    "    diff = papers[no] - total\n",
    "    print(diff, sep=' ', end=' ')"
   ]
  },
  {
   "cell_type": "code",
   "execution_count": null,
   "metadata": {},
   "outputs": [],
   "source": [
    "# No - 3046\n",
    "R1, S = map(int, input().split())\n",
    "R2 = 2 * S - R1\n",
    "print(R2)"
   ]
  },
  {
   "cell_type": "code",
   "execution_count": null,
   "metadata": {},
   "outputs": [],
   "source": [
    "# No - 5554\n",
    "home_to_school = int(input())\n",
    "school_to_PC = int(input())\n",
    "PC_to_tutor = int(input())\n",
    "tutor_to_home = int(input())\n",
    "\n",
    "total = home_to_school + school_to_PC + PC_to_tutor + tutor_to_home\n",
    "min = total // 60\n",
    "sec = total % 60\n",
    "print(min, sec, sep='\\n')"
   ]
  },
  {
   "cell_type": "code",
   "execution_count": null,
   "metadata": {},
   "outputs": [],
   "source": [
    "# No - 6749\n",
    "third = int(input())\n",
    "second = int(input())\n",
    "diff = second - third\n",
    "first = second + diff\n",
    "print(first)"
   ]
  },
  {
   "cell_type": "code",
   "execution_count": null,
   "metadata": {},
   "outputs": [],
   "source": [
    "# No - 15493\n",
    "N = int(input())\n",
    "combi = N * (N-1)\n",
    "print(combi)"
   ]
  },
  {
   "cell_type": "code",
   "execution_count": null,
   "metadata": {},
   "outputs": [],
   "source": [
    "# No - 2530\n",
    "hour, min, sec = map(int, input().split())\n",
    "cooking_sec = int(input())\n",
    "\n",
    "calculated_sec = hour * 3600 + min * 60 + sec\n",
    "total_sec = calculated_sec + cooking_sec\n",
    "\n",
    "cal_hour = total_sec // 3600\n",
    "cal_min = (total_sec % 3600) // 60\n",
    "cal_sec = (total_sec % 3600) % 60\n",
    "\n",
    "if total_sec >= 24*3600:\n",
    "    cal_hour = cal_hour % 24\n",
    "\n",
    "print(cal_hour, cal_min, cal_sec, sep=' ')"
   ]
  },
  {
   "cell_type": "code",
   "execution_count": null,
   "metadata": {},
   "outputs": [],
   "source": [
    "# No - 2752\n",
    "sorted_nums = sorted(list(map(int, input().split())))\n",
    "print(sorted_nums[0], sorted_nums[1], sorted_nums[2], sep=' ')"
   ]
  }
 ],
 "metadata": {
  "kernelspec": {
   "display_name": "Python 3.9.13 ('base')",
   "language": "python",
   "name": "python3"
  },
  "language_info": {
   "codemirror_mode": {
    "name": "ipython",
    "version": 3
   },
   "file_extension": ".py",
   "mimetype": "text/x-python",
   "name": "python",
   "nbconvert_exporter": "python",
   "pygments_lexer": "ipython3",
   "version": "3.9.13"
  },
  "orig_nbformat": 4,
  "vscode": {
   "interpreter": {
    "hash": "40d3a090f54c6569ab1632332b64b2c03c39dcf918b08424e98f38b5ae0af88f"
   }
  }
 },
 "nbformat": 4,
 "nbformat_minor": 2
}
