{
 "cells": [
  {
   "cell_type": "code",
   "execution_count": null,
   "metadata": {},
   "outputs": [],
   "source": [
    "# No - 1264\n",
    "\n",
    "while True:\n",
    "    i = 0\n",
    "    string = input()\n",
    "    if \"#\" in string:\n",
    "        break\n",
    "    string = string.lower()\n",
    "    for char in string:\n",
    "        if char in 'aeiou':\n",
    "            i += 1\n",
    "    print(i)"
   ]
  },
  {
   "cell_type": "code",
   "execution_count": null,
   "metadata": {},
   "outputs": [],
   "source": [
    "# No - 4470\n",
    "line_no = int(input())\n",
    "i = 1\n",
    "while i <= line_no:\n",
    "    string = input()\n",
    "    print(f'{i}. {string}')\n",
    "    i += 1"
   ]
  },
  {
   "cell_type": "code",
   "execution_count": null,
   "metadata": {},
   "outputs": [],
   "source": [
    "# No - 5524\n",
    "name_no = int(input())\n",
    "i = 0\n",
    "while i < name_no:\n",
    "    string = input().lower()\n",
    "    print(string)\n",
    "    i += 1"
   ]
  },
  {
   "cell_type": "code",
   "execution_count": null,
   "metadata": {},
   "outputs": [],
   "source": [
    "# No - 11365\n",
    "\n",
    "while True:\n",
    "    string = input()\n",
    "    if string == \"END\":\n",
    "        break\n",
    "    print(string[-1::-1])"
   ]
  },
  {
   "cell_type": "code",
   "execution_count": null,
   "metadata": {},
   "outputs": [],
   "source": [
    "# No - 11945\n",
    "N, M = map(int, input().split())\n",
    "i = 0\n",
    "while i < N:\n",
    "    i += 1\n",
    "    koi = input()\n",
    "    print(koi[-1::-1])"
   ]
  },
  {
   "cell_type": "code",
   "execution_count": null,
   "metadata": {},
   "outputs": [],
   "source": [
    "# No - 10808\n",
    "# 소문자 a의 아스키 코드는 97이다.\n",
    "S = input()\n",
    "word_list = [0] * 26\n",
    "for char in S:\n",
    "    word_list[ord(char) - 97] += 1\n",
    "for i in word_list:\n",
    "    print(i, end=' ')"
   ]
  },
  {
   "cell_type": "code",
   "execution_count": null,
   "metadata": {},
   "outputs": [],
   "source": [
    "# No - 2440\n",
    "num = int(input())\n",
    "\n",
    "for i in range(num, 0, -1):\n",
    "    print('*' * i, sep='')"
   ]
  },
  {
   "cell_type": "code",
   "execution_count": null,
   "metadata": {},
   "outputs": [],
   "source": [
    "# No - 2083\n",
    "while True:\n",
    "    name, age, kg = input().split()\n",
    "    if name == '#' or kg == '0' or age == '0':\n",
    "        break\n",
    "    if int(kg) >= 80 or int(age) > 17:\n",
    "        print(name, \"Senior\", sep=' ')\n",
    "    else:\n",
    "        print(name, \"Junior\", sep=' ')"
   ]
  },
  {
   "cell_type": "code",
   "execution_count": null,
   "metadata": {},
   "outputs": [],
   "source": [
    "# No - 2845\n",
    "L, P = map(int, input().split())\n",
    "papers = list(map(int, input().split()))\n",
    "total = L * P\n",
    "for no in range(len(papers)):\n",
    "    diff = papers[no] - total\n",
    "    print(diff, sep=' ', end=' ')"
   ]
  },
  {
   "cell_type": "code",
   "execution_count": null,
   "metadata": {},
   "outputs": [],
   "source": [
    "# No - 3046\n",
    "R1, S = map(int, input().split())\n",
    "R2 = 2 * S - R1\n",
    "print(R2)"
   ]
  },
  {
   "cell_type": "code",
   "execution_count": null,
   "metadata": {},
   "outputs": [],
   "source": [
    "# No - 5554\n",
    "home_to_school = int(input())\n",
    "school_to_PC = int(input())\n",
    "PC_to_tutor = int(input())\n",
    "tutor_to_home = int(input())\n",
    "\n",
    "total = home_to_school + school_to_PC + PC_to_tutor + tutor_to_home\n",
    "min = total // 60\n",
    "sec = total % 60\n",
    "print(min, sec, sep='\\n')"
   ]
  },
  {
   "cell_type": "code",
   "execution_count": null,
   "metadata": {},
   "outputs": [],
   "source": [
    "# No - 6749\n",
    "third = int(input())\n",
    "second = int(input())\n",
    "diff = second - third\n",
    "first = second + diff\n",
    "print(first)"
   ]
  },
  {
   "cell_type": "code",
   "execution_count": null,
   "metadata": {},
   "outputs": [],
   "source": [
    "# No - 15493\n",
    "N = int(input())\n",
    "combi = N * (N-1)\n",
    "print(combi)"
   ]
  },
  {
   "cell_type": "code",
   "execution_count": null,
   "metadata": {},
   "outputs": [],
   "source": [
    "# No - 2530\n",
    "hour, min, sec = map(int, input().split())\n",
    "cooking_sec = int(input())\n",
    "\n",
    "calculated_sec = hour * 3600 + min * 60 + sec\n",
    "total_sec = calculated_sec + cooking_sec\n",
    "\n",
    "cal_hour = total_sec // 3600\n",
    "cal_min = (total_sec % 3600) // 60\n",
    "cal_sec = (total_sec % 3600) % 60\n",
    "\n",
    "if total_sec >= 24*3600:\n",
    "    cal_hour = cal_hour % 24\n",
    "\n",
    "print(cal_hour, cal_min, cal_sec, sep=' ')"
   ]
  },
  {
   "cell_type": "code",
   "execution_count": null,
   "metadata": {},
   "outputs": [],
   "source": [
    "# No - 2752\n",
    "sorted_nums = sorted(list(map(int, input().split())))\n",
    "print(sorted_nums[0], sorted_nums[1], sorted_nums[2], sep=' ')"
   ]
  },
  {
   "cell_type": "code",
   "execution_count": null,
   "metadata": {},
   "outputs": [],
   "source": [
    "# No - 5532\n",
    "L = int(input())  # 전체 방학 일수\n",
    "A = int(input())  # 풀어야 하는 국어 페이지 수\n",
    "B = int(input())  # 풀어야 하는 수학 페이지 수\n",
    "C = int(input())  # 하루에 풀 수 있는 국어 페이지 수\n",
    "D = int(input())  # 하루에 풀 수 있는 수학 페이지 수\n",
    "\n",
    "kor, math = 0, 0\n",
    "elapse = 0\n",
    "\n",
    "if A % C == 0:\n",
    "    kor = A // C\n",
    "else:\n",
    "    kor = A // C + 1\n",
    "    \n",
    "if B % D == 0:\n",
    "    math = B // D\n",
    "else:\n",
    "    math = B // D + 1\n",
    "\n",
    "if kor >= math:\n",
    "    elapse = kor\n",
    "else:\n",
    "    elapse = math\n",
    "    \n",
    "print(L - elapse)"
   ]
  },
  {
   "cell_type": "code",
   "execution_count": null,
   "metadata": {},
   "outputs": [],
   "source": [
    "# No - 10039\n",
    "wonsup = int(input())\n",
    "sehee = int(input())\n",
    "sankeun = int(input())\n",
    "sung = int(input())\n",
    "kangsu = int(input())\n",
    "\n",
    "original_score = [wonsup, sehee, sankeun, sung, kangsu]\n",
    "for index in range(len(original_score)):\n",
    "    if original_score[index] < 40:\n",
    "        original_score[index] = 40\n",
    "\n",
    "sum, avg = 0, 0\n",
    "for score in original_score:\n",
    "    sum += score\n",
    "    avg = sum // 5\n",
    "\n",
    "print(avg)"
   ]
  },
  {
   "cell_type": "code",
   "execution_count": null,
   "metadata": {},
   "outputs": [],
   "source": [
    "# No - 5543\n",
    "first_B = int(input())\n",
    "second_B = int(input())\n",
    "third_B = int(input())\n",
    "coke = int(input())\n",
    "cider = int(input())\n",
    "\n",
    "burgers = [first_B, second_B, third_B]\n",
    "beverages = [coke, cider]\n",
    "\n",
    "set_bur = min(burgers)\n",
    "set_bev = min(beverages)\n",
    "\n",
    "print(set_bur+set_bev-50)"
   ]
  },
  {
   "cell_type": "code",
   "execution_count": null,
   "metadata": {},
   "outputs": [],
   "source": [
    "# No - 10797\n",
    "day = int(input())\n",
    "cars = list(map(int, input().split()))\n",
    "if day in cars:\n",
    "    print(cars.count(day))\n",
    "else:\n",
    "    print(0)"
   ]
  },
  {
   "cell_type": "code",
   "execution_count": null,
   "metadata": {},
   "outputs": [],
   "source": [
    "# No - 10156\n",
    "K, N, M = map(int, input().split())\n",
    "\n",
    "parents = K*N - M\n",
    "\n",
    "if parents >= 0:\n",
    "    print(parents)\n",
    "else:\n",
    "    print(0)"
   ]
  },
  {
   "cell_type": "code",
   "execution_count": null,
   "metadata": {},
   "outputs": [],
   "source": [
    "# No - 10101\n",
    "\n",
    "a = int(input())\n",
    "b = int(input())\n",
    "c = int(input())\n",
    "\n",
    "if a+b+c == 180:\n",
    "    if a == b == c == 60:\n",
    "        print('Equilateral')\n",
    "    if (a == b and a != c) or (a == c and a != b) or (b == c and a != b):\n",
    "        print('Isosceles')\n",
    "    if a != b and a != c and b != c:\n",
    "        print('Scalene')\n",
    "else:\n",
    "    print('Error')\n"
   ]
  },
  {
   "cell_type": "code",
   "execution_count": null,
   "metadata": {},
   "outputs": [],
   "source": [
    "# No - 5596\n",
    "minkook = list(map(int, input().split()))\n",
    "manse = list(map(int, input().split()))\n",
    "S, T = 0, 0\n",
    "for score in minkook:\n",
    "    S += score\n",
    "for score in manse:\n",
    "    T += score\n",
    "\n",
    "if S >= T:\n",
    "    print(S)\n",
    "else:\n",
    "    print(T)"
   ]
  },
  {
   "cell_type": "code",
   "execution_count": null,
   "metadata": {},
   "outputs": [],
   "source": [
    "# No - 15680\n",
    "N = int(input())\n",
    "\n",
    "if N == 0:\n",
    "    print('YONSEI')\n",
    "if N == 1:\n",
    "    print('Leading the Way to the Future')"
   ]
  },
  {
   "cell_type": "code",
   "execution_count": null,
   "metadata": {},
   "outputs": [],
   "source": [
    "# No - 9316\n",
    "i_s = int(input())\n",
    "\n",
    "for i in range(i_s):\n",
    "    print(f'Hello World, Judge {i+1}!')"
   ]
  },
  {
   "cell_type": "code",
   "execution_count": null,
   "metadata": {},
   "outputs": [],
   "source": [
    "# No - 5717\n",
    "male = 0\n",
    "female = 0\n",
    "\n",
    "while True:\n",
    "    male, female = map(int, input().split())\n",
    "    if male == 0 and female == 0:\n",
    "        break\n",
    "    else:\n",
    "        print(male+female)"
   ]
  },
  {
   "cell_type": "code",
   "execution_count": null,
   "metadata": {},
   "outputs": [],
   "source": [
    "# No - 11943 ★\n",
    "# 다른 사람의 코드를 보고 풀었다..\n",
    "basket_1_a, basket_1_o = map(int, input().split())\n",
    "basket_2_a, basket_2_o = map(int, input().split())\n",
    "print(min(basket_1_a+basket_2_o, basket_1_o+basket_2_a))"
   ]
  },
  {
   "cell_type": "code",
   "execution_count": null,
   "metadata": {},
   "outputs": [],
   "source": [
    "# No - 3765\n",
    "# 문제가 이상함...\n",
    "# 계속 입력 받다가 EOFError를 발생시키라는 소리였음...\n",
    "while True:\n",
    "    try:\n",
    "        string = input().strip()\n",
    "        print(string)\n",
    "    except EOFError:\n",
    "        break"
   ]
  },
  {
   "cell_type": "code",
   "execution_count": null,
   "metadata": {},
   "outputs": [],
   "source": [
    "# No - 15963\n",
    "N, M = map(int, input().split())\n",
    "if N == M:\n",
    "    print(1)\n",
    "else:\n",
    "    print(0)"
   ]
  },
  {
   "cell_type": "code",
   "execution_count": null,
   "metadata": {},
   "outputs": [],
   "source": [
    "# No - 10768\n",
    "month = int(input())\n",
    "day = int(input())\n",
    "\n",
    "if month < 2:\n",
    "    print('Before')\n",
    "elif month == 2:\n",
    "    if day == 18:\n",
    "        print('Special')\n",
    "    elif day > 18:\n",
    "        print('After')\n",
    "    else:\n",
    "        print('Before')\n",
    "else:\n",
    "    print('After')"
   ]
  },
  {
   "cell_type": "code",
   "execution_count": null,
   "metadata": {},
   "outputs": [],
   "source": [
    "# No - 5575\n",
    "# 반복도 많고, 줄일 수 있는 요소가 많을 것 같다.\n",
    "\n",
    "a_start_hour, a_start_min, a_start_sec, a_end_hour, a_end_min, a_end_sec = map(int, input().split())\n",
    "b_start_hour, b_start_min, b_start_sec, b_end_hour, b_end_min, b_end_sec = map(int, input().split())\n",
    "c_start_hour, c_start_min, c_start_sec, c_end_hour, c_end_min, c_end_sec = map(int, input().split())\n",
    "\n",
    "a_start_total_sec = a_start_hour * 3600 + a_start_min * 60 + a_start_sec\n",
    "a_end_total_sec = a_end_hour * 3600 + a_end_min * 60 + a_end_sec\n",
    "\n",
    "b_start_total_sec = b_start_hour * 3600 + b_start_min * 60 + b_start_sec\n",
    "b_end_total_sec = b_end_hour * 3600 + b_end_min * 60 + b_end_sec\n",
    "\n",
    "c_start_total_sec = c_start_hour * 3600 + c_start_min * 60 + c_start_sec\n",
    "c_end_total_sec = c_end_hour * 3600 + c_end_min * 60 + c_end_sec\n",
    "\n",
    "a_working = a_end_total_sec - a_start_total_sec\n",
    "b_working = b_end_total_sec - b_start_total_sec\n",
    "c_working = c_end_total_sec - c_start_total_sec\n",
    "\n",
    "print(a_working//3600, (a_working%3600)//60, a_working%60)\n",
    "print(b_working//3600, (b_working%3600)//60, b_working%60)\n",
    "print(c_working//3600, (c_working%3600)//60, c_working%60)"
   ]
  },
  {
   "cell_type": "code",
   "execution_count": null,
   "metadata": {},
   "outputs": [],
   "source": [
    "# No - 4589\n",
    "groups = int(input())\n",
    "gnomes = []\n",
    "\n",
    "print('Gnomes:')\n",
    "for num in range(groups):\n",
    "    gnomes = list(map(int, input().split()))\n",
    "    if gnomes == sorted(gnomes) or gnomes == sorted(gnomes, reverse=True):\n",
    "        print('Ordered')\n",
    "    else:\n",
    "        print('Unordered')"
   ]
  },
  {
   "cell_type": "code",
   "execution_count": null,
   "metadata": {},
   "outputs": [],
   "source": [
    "# No - 11948\n",
    "scores = []\n",
    "total = 0\n",
    "\n",
    "for i in range(6):\n",
    "    score = (int(input()))\n",
    "    scores.append(score)\n",
    "subject_4 = sorted(scores[0:4])\n",
    "subject_2 = sorted(scores[4:])\n",
    "\n",
    "selected = subject_4[1:] + subject_2[1:]\n",
    "\n",
    "for score in selected:\n",
    "    total += score\n",
    "print(total)"
   ]
  },
  {
   "cell_type": "code",
   "execution_count": null,
   "metadata": {},
   "outputs": [],
   "source": [
    "# No - 17388\n",
    "S, K, H = map(int, input().split())\n",
    "if S+K+H >= 100:\n",
    "    print(\"OK\")\n",
    "elif (S < K and S < H):\n",
    "    print(\"Soongsil\")\n",
    "elif (K < S and K < H):\n",
    "    print(\"Korea\")\n",
    "elif (H < S and H < K):\n",
    "    print(\"Hanyang\")"
   ]
  },
  {
   "cell_type": "code",
   "execution_count": null,
   "metadata": {},
   "outputs": [],
   "source": [
    "# No - 16486\n",
    "d_1 = int(input())\n",
    "d_2 = int(input())\n",
    "\n",
    "pi = 3.141592\n",
    "\n",
    "rect = d_1 * 2\n",
    "circle = 2 * pi * d_2\n",
    "print(rect+circle)"
   ]
  },
  {
   "cell_type": "code",
   "execution_count": null,
   "metadata": {},
   "outputs": [],
   "source": [
    "# No - 20499\n",
    "K, D, A = map(int, input().split('/'))\n",
    "if K+A < D or D == 0:\n",
    "    print('hasu')\n",
    "else:\n",
    "    print('gosu')"
   ]
  },
  {
   "cell_type": "code",
   "execution_count": null,
   "metadata": {},
   "outputs": [],
   "source": [
    "# No - 17362 ★\n",
    "n = int(input())\n",
    "remain = n % 8\n",
    "\n",
    "if remain == 1:\n",
    "    print(1)\n",
    "elif remain == 2 or remain == 0:\n",
    "    print(2)\n",
    "elif remain == 3 or remain == 7:\n",
    "    print(3)\n",
    "elif remain == 4 or remain == 6:\n",
    "    print(4)\n",
    "else:\n",
    "    print(5)"
   ]
  },
  {
   "cell_type": "code",
   "execution_count": null,
   "metadata": {},
   "outputs": [],
   "source": [
    "# No - 13866\n",
    "# 절대값으로 출력해야 한다...\n",
    "A, B, C, D = map(int, input().split())\n",
    "\n",
    "diff = (A+D) - (B+C)\n",
    "print(abs(diff))"
   ]
  },
  {
   "cell_type": "code",
   "execution_count": null,
   "metadata": {},
   "outputs": [],
   "source": [
    "# No - 15873\n",
    "a_plus_b = input()\n",
    "\n",
    "if len(a_plus_b) == 2:\n",
    "    print(int(a_plus_b[0]) + int(a_plus_b[1]))\n",
    "if a_plus_b[:2] == '10':\n",
    "    print(int(a_plus_b[0:2]) + int(a_plus_b[2:]))\n",
    "if a_plus_b[1:] == '10':\n",
    "    print(int(a_plus_b[0]) + int(a_plus_b[1:]))"
   ]
  },
  {
   "cell_type": "code",
   "execution_count": null,
   "metadata": {},
   "outputs": [],
   "source": [
    "# No - 5893\n",
    "bin_num = input()\n",
    "calc_ed = 17 * int(bin_num, 2)\n",
    "res = bin(calc_ed)\n",
    "print(res[2:])"
   ]
  },
  {
   "cell_type": "code",
   "execution_count": null,
   "metadata": {},
   "outputs": [],
   "source": [
    "# No - 11121\n",
    "input_num = int(input())\n",
    "i = 0\n",
    "\n",
    "while True:\n",
    "    if i == input_num:\n",
    "        break\n",
    "    input_bit, output_bit = input().split()\n",
    "    if input_bit == output_bit:\n",
    "        print('OK')\n",
    "    else:\n",
    "        print('ERROR')\n",
    "    i += 1\n",
    "    "
   ]
  },
  {
   "cell_type": "code",
   "execution_count": 6,
   "metadata": {},
   "outputs": [
    {
     "name": "stdout",
     "output_type": "stream",
     "text": [
      "NO\n"
     ]
    }
   ],
   "source": [
    "# No - 13985\n",
    "formula = list(input().split())\n",
    "if int(formula[0]) + int(formula[2]) == int(formula[-1]):\n",
    "    print('YES')\n",
    "else:\n",
    "    print('NO')"
   ]
  },
  {
   "cell_type": "code",
   "execution_count": 8,
   "metadata": {},
   "outputs": [
    {
     "name": "stdout",
     "output_type": "stream",
     "text": [
      "EARTHISUNDERATTACK\n"
     ]
    }
   ],
   "source": [
    "# No - 15000\n",
    "input_chr = input().lower()\n",
    "print(input_chr.upper())"
   ]
  },
  {
   "cell_type": "code",
   "execution_count": 9,
   "metadata": {},
   "outputs": [
    {
     "name": "stdout",
     "output_type": "stream",
     "text": [
      "YES\n"
     ]
    }
   ],
   "source": [
    "# No - 17836\n",
    "number_555 = input()\n",
    "if number_555[0:3] == '555':\n",
    "    print('YES')\n",
    "else:\n",
    "    print('NO')"
   ]
  },
  {
   "cell_type": "code",
   "execution_count": 19,
   "metadata": {},
   "outputs": [],
   "source": [
    "# No - 18198\n",
    "#match = input()\n",
    "match='A2B2A1B2A2B1A2B2A1B2A1A1B1A1A2'\n",
    "score_A = []\n",
    "score_B = []\n",
    "sum_A = 0\n",
    "sum_B = 0\n",
    "\n",
    "# A, B의 점수 가르기\n",
    "for i in range(len(match)):\n",
    "    if match[i] == 'A':\n",
    "        score_A.append(match[i+1])\n",
    "    if match[i] == 'B':\n",
    "        score_B.append(match[i+1])\n",
    "\n",
    "# A, B의 점수 합 구하기\n",
    "for score in score_A:\n",
    "    sum_A += int(score)\n",
    "for score in score_B:\n",
    "    sum_B += int(score)\n",
    "\n",
    "# 승자 가르기 -- 이게 해결이 안되네...\n",
    "if sum_A == 11 or sum_B == 11:\n",
    "    if sum_A - sum_B >= 2:\n",
    "        print('A')\n",
    "    if sum_B - sum_A >= 2:\n",
    "        print('B')"
   ]
  },
  {
   "cell_type": "code",
   "execution_count": 21,
   "metadata": {},
   "outputs": [
    {
     "name": "stdout",
     "output_type": "stream",
     "text": [
      "3\n"
     ]
    }
   ],
   "source": [
    "# No - 18409\n",
    "N = int(input())\n",
    "S = input()\n",
    "vowel = []\n",
    "for char in S:\n",
    "    if char in 'aeiou':\n",
    "        vowel.append(char)\n",
    "print(len(vowel))"
   ]
  },
  {
   "cell_type": "code",
   "execution_count": null,
   "metadata": {},
   "outputs": [],
   "source": []
  }
 ],
 "metadata": {
  "kernelspec": {
   "display_name": "Python 3.9.13 ('base')",
   "language": "python",
   "name": "python3"
  },
  "language_info": {
   "codemirror_mode": {
    "name": "ipython",
    "version": 3
   },
   "file_extension": ".py",
   "mimetype": "text/x-python",
   "name": "python",
   "nbconvert_exporter": "python",
   "pygments_lexer": "ipython3",
   "version": "3.9.13"
  },
  "orig_nbformat": 4,
  "vscode": {
   "interpreter": {
    "hash": "40d3a090f54c6569ab1632332b64b2c03c39dcf918b08424e98f38b5ae0af88f"
   }
  }
 },
 "nbformat": 4,
 "nbformat_minor": 2
}
