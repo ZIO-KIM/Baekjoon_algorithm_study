{
 "cells": [
  {
   "cell_type": "code",
   "execution_count": null,
   "metadata": {},
   "outputs": [],
   "source": [
    "# No - 4153\n",
    "\n",
    "while True:\n",
    "    triangle = list(map(int, input().split()))\n",
    "    sorted_triangle = sorted(triangle)\n",
    "\n",
    "    c = sorted_triangle[-1]\n",
    "    a = sorted_triangle[0]\n",
    "    b = sorted_triangle[1]\n",
    "    if a == 0 and b == 0 and c == 0:\n",
    "        break\n",
    "    \n",
    "    if a**2 + b**2 == c**2:\n",
    "        print('right')\n",
    "    elif a**2 + b**2 != c**2:\n",
    "        print('wrong')\n"
   ]
  },
  {
   "cell_type": "code",
   "execution_count": null,
   "metadata": {},
   "outputs": [],
   "source": [
    "# No - 1085\n",
    "hansu_x, hansu_y, w, h = map(int, input().split())\n",
    "x, y = 0, 0\n",
    "\n",
    "dist_calc = [hansu_x-x, hansu_y-y, w-hansu_x, h-hansu_y]\n",
    "print(min(dist_calc))"
   ]
  },
  {
   "cell_type": "code",
   "execution_count": null,
   "metadata": {},
   "outputs": [],
   "source": []
  }
 ],
 "metadata": {
  "kernelspec": {
   "display_name": "Python 3.9.13 ('base')",
   "language": "python",
   "name": "python3"
  },
  "language_info": {
   "codemirror_mode": {
    "name": "ipython",
    "version": 3
   },
   "file_extension": ".py",
   "mimetype": "text/x-python",
   "name": "python",
   "nbconvert_exporter": "python",
   "pygments_lexer": "ipython3",
   "version": "3.9.13"
  },
  "orig_nbformat": 4,
  "vscode": {
   "interpreter": {
    "hash": "40d3a090f54c6569ab1632332b64b2c03c39dcf918b08424e98f38b5ae0af88f"
   }
  }
 },
 "nbformat": 4,
 "nbformat_minor": 2
}
