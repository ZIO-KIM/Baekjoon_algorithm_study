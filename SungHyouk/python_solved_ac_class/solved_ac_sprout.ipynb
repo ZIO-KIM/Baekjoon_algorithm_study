{
 "cells": [
  {
   "cell_type": "code",
   "execution_count": null,
   "metadata": {},
   "outputs": [],
   "source": [
    "# No 11382\n",
    "a, b, c = map(int, input().split())\n",
    "print(a+b+c)"
   ]
  },
  {
   "cell_type": "code",
   "execution_count": null,
   "metadata": {},
   "outputs": [],
   "source": [
    "# No 2420\n",
    "a, b = map(int, input().split())\n",
    "diff = a - b\n",
    "\n",
    "if diff < 0:\n",
    "    diff = diff * -1\n",
    "\n",
    "print(diff)"
   ]
  },
  {
   "cell_type": "code",
   "execution_count": null,
   "metadata": {},
   "outputs": [],
   "source": [
    "# No 2741\n",
    "line_num = int(input())\n",
    "\n",
    "for i in range(1, line_num+1):\n",
    "    print(i)"
   ]
  },
  {
   "cell_type": "code",
   "execution_count": null,
   "metadata": {},
   "outputs": [],
   "source": [
    "# No 10872\n",
    "# 재귀로 구현하는 것이 가장 손 쉽다.\n",
    "def factorial(num):\n",
    "    if num == 0:\n",
    "        return 1\n",
    "    return num * factorial(num - 1)\n",
    "\n",
    "n = int(input())\n",
    "print(factorial(n))"
   ]
  },
  {
   "cell_type": "code",
   "execution_count": null,
   "metadata": {},
   "outputs": [],
   "source": [
    "# No 2743\n",
    "string = input()\n",
    "print(len(string))"
   ]
  },
  {
   "cell_type": "code",
   "execution_count": null,
   "metadata": {},
   "outputs": [],
   "source": [
    "# No 2744\n",
    "string = input()\n",
    "print(string.swapcase())"
   ]
  },
  {
   "cell_type": "code",
   "execution_count": null,
   "metadata": {},
   "outputs": [],
   "source": [
    "# No 2754\n",
    "table = {'A+': 4.3, 'A0': 4.0, 'A-': 3.7,\n",
    "'B+': 3.3, 'B0': 3.0, 'B-': 2.7,\n",
    "'C+': 2.3, 'C0': 2.0, 'C-': 1.7,\n",
    "'D+': 1.3, 'D0': 1.0, 'D-': 0.7,\n",
    "'F': 0.0}\n",
    "\n",
    "choose = input()\n",
    "\n",
    "print(table[choose])"
   ]
  },
  {
   "cell_type": "code",
   "execution_count": null,
   "metadata": {},
   "outputs": [],
   "source": [
    "# No - 11718\n",
    "# 무한루프로 들어 오는 문자열 한 줄을 한 줄로 출력하고\n",
    "# 입력이 더 들어오지 않을 시 end of file 오류를 일으켜 while 문을 탈출하도록 한다.\n",
    "\n",
    "while True:\n",
    "    try:\n",
    "        print(input())\n",
    "    except EOFError:\n",
    "        break"
   ]
  },
  {
   "cell_type": "code",
   "execution_count": null,
   "metadata": {},
   "outputs": [],
   "source": [
    "# No - 9086\n",
    "\n",
    "string_number = int(input())\n",
    "\n",
    "i = 0\n",
    "while i < string_number:\n",
    "    string = input()\n",
    "    print(string[0], end='')\n",
    "    print(string[-1])\n",
    "    i += 1"
   ]
  },
  {
   "cell_type": "code",
   "execution_count": 3,
   "metadata": {},
   "outputs": [
    {
     "name": "stdout",
     "output_type": "stream",
     "text": [
      "-7\n"
     ]
    }
   ],
   "source": [
    "# No - 15964\n",
    "a, b = map(int, input().split())\n",
    "\n",
    "res = (a+b) * (a-b)\n",
    "print(res)"
   ]
  },
  {
   "cell_type": "code",
   "execution_count": 8,
   "metadata": {},
   "outputs": [
    {
     "name": "stdout",
     "output_type": "stream",
     "text": [
      "1\n"
     ]
    }
   ],
   "source": [
    "# No - 2475\n",
    "prod_no = list(map(int, input().split()))\n",
    "sixth = list(map(lambda x: x**2, prod_no))\n",
    "print(sum(sixth) % 10)"
   ]
  },
  {
   "cell_type": "code",
   "execution_count": null,
   "metadata": {},
   "outputs": [],
   "source": []
  }
 ],
 "metadata": {
  "kernelspec": {
   "display_name": "Python 3.9.13 ('base')",
   "language": "python",
   "name": "python3"
  },
  "language_info": {
   "codemirror_mode": {
    "name": "ipython",
    "version": 3
   },
   "file_extension": ".py",
   "mimetype": "text/x-python",
   "name": "python",
   "nbconvert_exporter": "python",
   "pygments_lexer": "ipython3",
   "version": "3.9.13"
  },
  "orig_nbformat": 4,
  "vscode": {
   "interpreter": {
    "hash": "8416a3f2a026e985bee17eceb7546469969f3a4d162bd0f7da6d9cc666a7e5f9"
   }
  }
 },
 "nbformat": 4,
 "nbformat_minor": 2
}
