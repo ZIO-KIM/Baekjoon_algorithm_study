{
 "cells": [
  {
   "cell_type": "markdown",
   "metadata": {},
   "source": [
    "# 3. 반복문"
   ]
  },
  {
   "cell_type": "code",
   "execution_count": null,
   "metadata": {},
   "outputs": [],
   "source": [
    "# 3-1 - No. 2739\n",
    "step = int(input())\n",
    "\n",
    "for i in range(1, 10):\n",
    "    print(f'{step} * {i} = {step*i}')"
   ]
  },
  {
   "cell_type": "code",
   "execution_count": null,
   "metadata": {},
   "outputs": [],
   "source": [
    "# 3-2  - No. 10950\n",
    "T = int(input())\n",
    "\n",
    "for i in range(T):\n",
    "    a, b = map(int, input().split())\n",
    "    print(a+b)"
   ]
  },
  {
   "cell_type": "code",
   "execution_count": null,
   "metadata": {},
   "outputs": [],
   "source": [
    "# 3-3 - No. 8393\n",
    "n = int(input())\n",
    "sum = 0\n",
    "\n",
    "for i in range(n):\n",
    "    i += 1\n",
    "    sum += i\n",
    "print(sum)"
   ]
  },
  {
   "cell_type": "code",
   "execution_count": null,
   "metadata": {},
   "outputs": [],
   "source": [
    "# 3-4 - No. 25304\n",
    "tot_cost = int(input())\n",
    "items = int(input())\n",
    "sum = 0\n",
    "\n",
    "for i in range(items):\n",
    "    each_cost, each_item = map(int, input().split())\n",
    "    sum += each_cost * each_item\n",
    "\n",
    "if sum == tot_cost:\n",
    "    print('Yes')\n",
    "else:\n",
    "    print('No')"
   ]
  },
  {
   "cell_type": "code",
   "execution_count": null,
   "metadata": {},
   "outputs": [],
   "source": [
    "# 3-5 - No. 15552\n",
    "# 새로운 것을 배웠음 (ipython에서 실행하라)\n",
    "import sys\n",
    "\n",
    "T = int(sys.stdin.readline())\n",
    "\n",
    "for i in range(T):\n",
    "    a, b = map(int, sys.stdin.readline().split())\n",
    "    print(a+b)"
   ]
  },
  {
   "cell_type": "code",
   "execution_count": null,
   "metadata": {},
   "outputs": [],
   "source": [
    "# 3-6 - No. 11021\n",
    "import sys\n",
    "\n",
    "T = int(sys.stdin.readline())\n",
    "\n",
    "for i in range(T):\n",
    "    a, b = map(int, sys.stdin.readline().split())\n",
    "    print(f'Case #{i+1}: {a+b}')"
   ]
  },
  {
   "cell_type": "code",
   "execution_count": null,
   "metadata": {},
   "outputs": [],
   "source": [
    "# 3-7 - No. 11022\n",
    "import sys\n",
    "\n",
    "T = int(sys.stdin.readline())\n",
    "\n",
    "for i in range(T):\n",
    "    a, b = map(int, sys.stdin.readline().split())\n",
    "    print(f'Case #{i+1}: {a} + {b} = {a+b}')"
   ]
  },
  {
   "cell_type": "code",
   "execution_count": null,
   "metadata": {},
   "outputs": [],
   "source": [
    "# 3-8 - No. 2438\n",
    "T = int(input())\n",
    "for i in range(T):\n",
    "    print('*' * (i+1))"
   ]
  },
  {
   "cell_type": "code",
   "execution_count": null,
   "metadata": {},
   "outputs": [],
   "source": [
    "# 3-9 - No. 2439\n",
    "T = int(input())\n",
    "for i in range(T):\n",
    "    print(' ' * (T-i-1), '*' * (i+1), sep='')"
   ]
  },
  {
   "cell_type": "code",
   "execution_count": null,
   "metadata": {},
   "outputs": [],
   "source": [
    "# 3-10 - No. 10871 (removed)\n",
    "N, X = map(int, input().split())\n",
    "nums = map(int, input().split())\n",
    "numbs_list = list(nums)\n",
    "\n",
    "for i in range(N):\n",
    "    if numbs_list[i] < X:\n",
    "        print(numbs_list[i], end=' ')"
   ]
  },
  {
   "cell_type": "code",
   "execution_count": null,
   "metadata": {},
   "outputs": [],
   "source": [
    "# 3-11 ★ - No.10952\n",
    "import sys\n",
    "input = sys.stdin.readline\n",
    "\n",
    "while True:\n",
    "    a, b = map(int, input().split())\n",
    "    if a+b == 0:\n",
    "        break\n",
    "    else:\n",
    "        print(a+b)"
   ]
  },
  {
   "cell_type": "code",
   "execution_count": null,
   "metadata": {},
   "outputs": [],
   "source": [
    "# 3-12 ★ - No. 10951\n",
    "\n",
    "while True:\n",
    "    try:\n",
    "        a, b = map(int, input().split())\n",
    "        print(a+b)\n",
    "    except EOFError:\n",
    "        break"
   ]
  },
  {
   "cell_type": "code",
   "execution_count": null,
   "metadata": {},
   "outputs": [],
   "source": [
    "# 3-13 ★★ - No. 1110\n",
    "# 구현의 구조와 논리는 맞았으나 실제 코딩하여 구현에 문제\n",
    "n = int(input())\n",
    "num = n\n",
    "count = 0\n",
    "\n",
    "while True:\n",
    "    init_a = num // 10\n",
    "    init_b = num % 10\n",
    "    num_0 = (init_a + init_b) % 10\n",
    "    num = (init_b * 10) + num_0\n",
    "    \n",
    "    count += 1\n",
    "    if num == n:\n",
    "        break\n",
    "\n",
    "print(count)"
   ]
  },
  {
   "cell_type": "code",
   "execution_count": null,
   "metadata": {},
   "outputs": [],
   "source": []
  }
 ],
 "metadata": {
  "kernelspec": {
   "display_name": "Python 3.9.13 ('base')",
   "language": "python",
   "name": "python3"
  },
  "language_info": {
   "codemirror_mode": {
    "name": "ipython",
    "version": 3
   },
   "file_extension": ".py",
   "mimetype": "text/x-python",
   "name": "python",
   "nbconvert_exporter": "python",
   "pygments_lexer": "ipython3",
   "version": "3.9.13"
  },
  "orig_nbformat": 4,
  "vscode": {
   "interpreter": {
    "hash": "40d3a090f54c6569ab1632332b64b2c03c39dcf918b08424e98f38b5ae0af88f"
   }
  }
 },
 "nbformat": 4,
 "nbformat_minor": 2
}
