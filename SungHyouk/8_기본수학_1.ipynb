{
 "cells": [
  {
   "cell_type": "markdown",
   "metadata": {},
   "source": [
    "# 8. 기본 수학 1"
   ]
  },
  {
   "cell_type": "code",
   "execution_count": null,
   "metadata": {},
   "outputs": [],
   "source": [
    "# 8-1 No - 1978\n",
    "total_num = int(input())\n",
    "cal_dict = {}\n",
    "\n",
    "nums = list(map(int, input().split()))\n",
    "\n",
    "for num in nums:\n",
    "    count = 0\n",
    "    for i in range(1, num):\n",
    "        if num % i == 0:\n",
    "            count += 1\n",
    "            cal_dict[num] = count\n",
    "dict_to_list = list(cal_dict.values())\n",
    "only_1 = [x for x in dict_to_list if x == 1]\n",
    "print(len(only_1))"
   ]
  },
  {
   "cell_type": "code",
   "execution_count": 1,
   "metadata": {},
   "outputs": [
    {
     "name": "stdout",
     "output_type": "stream",
     "text": [
      "0\n"
     ]
    }
   ],
   "source": [
    "# 8-5\n",
    "given_num = int(input())\n",
    "upper_lim = 2 * given_num\n",
    "\n",
    "cal_dict = {}\n",
    "\n",
    "for num in range(given_num + 1, upper_lim + 1):\n",
    "    count = 0\n",
    "    if upper_lim + 1 <= 6:\n",
    "        for i in range(1, num):\n",
    "            if num % i == 0:\n",
    "                count += 1\n",
    "                cal_dict[num] = count\n",
    "\n",
    "dict_to_list = list(cal_dict.values())\n",
    "only_1 = [x for x in dict_to_list if x == 1]\n",
    "print(len(only_1))"
   ]
  },
  {
   "cell_type": "code",
   "execution_count": null,
   "metadata": {},
   "outputs": [],
   "source": []
  }
 ],
 "metadata": {
  "kernelspec": {
   "display_name": "Python 3.9.13 ('base')",
   "language": "python",
   "name": "python3"
  },
  "language_info": {
   "codemirror_mode": {
    "name": "ipython",
    "version": 3
   },
   "file_extension": ".py",
   "mimetype": "text/x-python",
   "name": "python",
   "nbconvert_exporter": "python",
   "pygments_lexer": "ipython3",
   "version": "3.9.13"
  },
  "orig_nbformat": 4,
  "vscode": {
   "interpreter": {
    "hash": "40d3a090f54c6569ab1632332b64b2c03c39dcf918b08424e98f38b5ae0af88f"
   }
  }
 },
 "nbformat": 4,
 "nbformat_minor": 2
}
