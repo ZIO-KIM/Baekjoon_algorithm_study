{
 "cells": [
  {
   "cell_type": "markdown",
   "metadata": {},
   "source": [
    "# 5. 2차원 배열"
   ]
  },
  {
   "cell_type": "code",
   "execution_count": null,
   "metadata": {},
   "outputs": [],
   "source": [
    "# No. 2738 ★\n",
    "N, M = map(int, input().split())\n",
    "A, B = [], []\n",
    "\n",
    "for row in range(N):\n",
    "    row = list(map(int, input().split()))\n",
    "    A.append(row)\n",
    "\n",
    "for row in range(N):\n",
    "    row = list(map(int, input().split()))\n",
    "    B.append(row)\n",
    "\n",
    "for row in range(N):\n",
    "    for col in range(M):\n",
    "        print(A[row][col] + B[row][col], end=' ')\n",
    "    print()"
   ]
  },
  {
   "cell_type": "code",
   "execution_count": null,
   "metadata": {},
   "outputs": [],
   "source": [
    "# No. 2566 ★\n",
    "\n",
    "m = 0\n",
    "row = 0\n",
    "column = 0\n",
    "\n",
    "for i in range(9):\n",
    "    arr = list(map(int, input().split()))\n",
    "    if max(arr) > m:\n",
    "        m = max(arr)\n",
    "        row = i\n",
    "        column = arr.index(m)\n",
    "        \n",
    "print(m)\n",
    "print(row+1, column+1)"
   ]
  },
  {
   "cell_type": "code",
   "execution_count": 3,
   "metadata": {},
   "outputs": [
    {
     "name": "stdout",
     "output_type": "stream",
     "text": [
      "260\n"
     ]
    }
   ],
   "source": [
    "# No - 2563  ★★\n",
    "# 수학 문제로 풀기 어렵다.\n",
    "# 가로와 세로를 이차원 배열로 만들어서\n",
    "# 사각형의 해당 영역에 해당하는 배열의 값을 1로 바꿔 준다.\n",
    "# 겹치는 영역도 계속 1이 들어 있으므로 업데이트 되지 않고 1로 계속 덮어 쓰기만 함\n",
    "# 최종적으로 1의 값을 가지는 원소의 개수를 세면 된다.\n",
    "\n",
    "# 1) 색종이 한 장의 2차원 배열 만들기\n",
    "paper = [[0] * 100 for _ in range(100)]  # 색종이의 가로 세로 1장의 2차원 배열 초기화\n",
    "\n",
    "# 2) 색종이의 매수, 좌하 좌표 입력 받기\n",
    "N = int(input())\n",
    "for _ in range(N):\n",
    "    x, y = map(int, input().split())\n",
    "    \n",
    "    for i in range(y, y+10):\n",
    "        for j in range(x, x+10):\n",
    "            paper[i][j] = 1  # 좌하 좌표로부터 우상까지 1씩 더해가면서 1로 값을 채워넣음\n",
    "\n",
    "# 3) 1의 개수 세기\n",
    "result = 0\n",
    "for k in range(100):\n",
    "    result += paper[k].count(1)\n",
    "\n",
    "print(result)"
   ]
  },
  {
   "cell_type": "code",
   "execution_count": null,
   "metadata": {},
   "outputs": [],
   "source": []
  }
 ],
 "metadata": {
  "kernelspec": {
   "display_name": "Python 3.9.13 ('base')",
   "language": "python",
   "name": "python3"
  },
  "language_info": {
   "codemirror_mode": {
    "name": "ipython",
    "version": 3
   },
   "file_extension": ".py",
   "mimetype": "text/x-python",
   "name": "python",
   "nbconvert_exporter": "python",
   "pygments_lexer": "ipython3",
   "version": "3.9.13"
  },
  "orig_nbformat": 4,
  "vscode": {
   "interpreter": {
    "hash": "40d3a090f54c6569ab1632332b64b2c03c39dcf918b08424e98f38b5ae0af88f"
   }
  }
 },
 "nbformat": 4,
 "nbformat_minor": 2
}
