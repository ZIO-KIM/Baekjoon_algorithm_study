{
 "cells": [
  {
   "cell_type": "markdown",
   "metadata": {},
   "source": [
    "# 2. 조건문"
   ]
  },
  {
   "cell_type": "code",
   "execution_count": null,
   "metadata": {},
   "outputs": [],
   "source": [
    "# 2-1 - No. 1330\n",
    "\n",
    "a, b = map(int, input().split())\n",
    "\n",
    "if a > b:\n",
    "    print('>')\n",
    "elif a < b:\n",
    "    print('<')\n",
    "else:\n",
    "    print('==')"
   ]
  },
  {
   "cell_type": "code",
   "execution_count": null,
   "metadata": {},
   "outputs": [],
   "source": [
    "# 2-2 - No. 9498\n",
    "\n",
    "result = int(input())\n",
    "\n",
    "if result >= 90:\n",
    "    print('A')\n",
    "elif result >= 80 and result < 90:\n",
    "    print('B')\n",
    "elif result >= 70 and result < 80:\n",
    "    print('C')\n",
    "elif result >= 60 and result < 70:\n",
    "    print('D')\n",
    "else:\n",
    "    print('F')\n"
   ]
  },
  {
   "cell_type": "code",
   "execution_count": null,
   "metadata": {},
   "outputs": [],
   "source": [
    "# 2-3 - No. 2753\n",
    "\n",
    "cur_year = int(input())\n",
    "\n",
    "if cur_year % 4  == 0 and cur_year % 100 != 0:\n",
    "    print(1)\n",
    "elif cur_year % 400 == 0:\n",
    "    print(1)\n",
    "else:\n",
    "    print(0)"
   ]
  },
  {
   "cell_type": "code",
   "execution_count": null,
   "metadata": {},
   "outputs": [],
   "source": [
    "# 2-4 - No. 14681\n",
    "\n",
    "x = int(input())\n",
    "y = int(input())\n",
    "\n",
    "if x > 0 and y > 0:\n",
    "    print(1)\n",
    "elif x > 0 and y < 0:\n",
    "    print(4)\n",
    "elif x < 0 and y > 0:\n",
    "    print(2)\n",
    "else:\n",
    "    print(3)"
   ]
  },
  {
   "cell_type": "code",
   "execution_count": null,
   "metadata": {},
   "outputs": [],
   "source": [
    "# 2-5 - No. 2884\n",
    "hour, minute = map(int, input().split())\n",
    "\n",
    "if hour > 0:\n",
    "    if minute >= 45:\n",
    "        print(hour, minute-45, sep=' ')\n",
    "    if minute < 45:\n",
    "        print(hour-1, minute + 60 - 45, sep=' ')\n",
    "if hour == 0:\n",
    "    if minute >= 45:\n",
    "        print(hour, minute-45, sep=' ')\n",
    "    if minute < 45:\n",
    "        print(23, minute + 60 - 45, sep=' ')"
   ]
  },
  {
   "cell_type": "code",
   "execution_count": null,
   "metadata": {},
   "outputs": [],
   "source": [
    "# 2-6 - No. 2525\n",
    "cur_hour, cur_min = map(int, input().split())\n",
    "cooking_time = int(input())\n",
    "\n",
    "cal_min = cur_min + cooking_time\n",
    "\n",
    "if cal_min < 60:\n",
    "    print(cur_hour, cal_min, sep=' ')\n",
    "elif cal_min >= 60:\n",
    "    hour = cal_min // 60\n",
    "    cal_hour = cur_hour + hour\n",
    "    if cal_hour < 24:\n",
    "        print(cal_hour, cal_min-hour*60)\n",
    "    elif cal_hour >= 24:\n",
    "        print(cal_hour-24, cal_min-hour*60)"
   ]
  },
  {
   "cell_type": "code",
   "execution_count": null,
   "metadata": {},
   "outputs": [],
   "source": [
    "# 2-7 - No. 2480\n",
    "d1, d2, d3 = map(int, input().split())\n",
    "dice = list((d1, d2, d3))\n",
    "\n",
    "max_dice = sorted(dice, reverse=True)[0]\n",
    "dup_dice_set = set([x for x in dice if dice.count(x) > 1])\n",
    "\n",
    "if d1 == d2 == d3:\n",
    "    print(1000*d1 + 10000)\n",
    "elif d1 == d2 or d1 == d3 or d2 == d3:\n",
    "    print(100*list(dup_dice_set)[0] + 1000)\n",
    "else:\n",
    "    print(100*max_dice)"
   ]
  }
 ],
 "metadata": {
  "kernelspec": {
   "display_name": "Python 3.9.13 ('base')",
   "language": "python",
   "name": "python3"
  },
  "language_info": {
   "codemirror_mode": {
    "name": "ipython",
    "version": 3
   },
   "file_extension": ".py",
   "mimetype": "text/x-python",
   "name": "python",
   "nbconvert_exporter": "python",
   "pygments_lexer": "ipython3",
   "version": "3.9.13"
  },
  "orig_nbformat": 4,
  "vscode": {
   "interpreter": {
    "hash": "40d3a090f54c6569ab1632332b64b2c03c39dcf918b08424e98f38b5ae0af88f"
   }
  }
 },
 "nbformat": 4,
 "nbformat_minor": 2
}
