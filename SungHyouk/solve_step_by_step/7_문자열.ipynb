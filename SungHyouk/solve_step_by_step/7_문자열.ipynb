{
 "cells": [
  {
   "cell_type": "markdown",
   "metadata": {},
   "source": [
    "# 7. 문자열"
   ]
  },
  {
   "cell_type": "code",
   "execution_count": null,
   "metadata": {},
   "outputs": [],
   "source": [
    "# 7-1 (C99로도 품) - No. 11654\n",
    "char = input()\n",
    "print(ord(char))"
   ]
  },
  {
   "cell_type": "code",
   "execution_count": null,
   "metadata": {},
   "outputs": [],
   "source": [
    "# 7-2 - No. 11720\n",
    "total_num = int(input())\n",
    "raw_seq = \"\"\n",
    "\n",
    "while len(raw_seq) < total_num:\n",
    "    raw_seq = input()\n",
    "    sum = 0\n",
    "    for seq in raw_seq:\n",
    "        sum += int(seq)\n",
    "    print(sum)"
   ]
  },
  {
   "cell_type": "code",
   "execution_count": null,
   "metadata": {},
   "outputs": [],
   "source": [
    "# 7-3 - No.10809\n",
    "string = input()\n",
    "string.lower()\n",
    "\n",
    "alphabet = \"abcdefghijklmnopqrstuvwxyz\"\n",
    "char_list = [-1 for char in range(26)]\n",
    "\n",
    "for char in string:\n",
    "    char_list[alphabet.index(char)] = string.index(char)\n",
    "\n",
    "result = ' '.join(map(str, char_list))  # 리스트를 문자열로 바꿔야 한다.\n",
    "print(result)\n"
   ]
  },
  {
   "cell_type": "code",
   "execution_count": null,
   "metadata": {},
   "outputs": [],
   "source": [
    "# 7-4 - No.2675\n",
    "test_num = int(input())\n",
    "n = 0\n",
    "\n",
    "while n < test_num:\n",
    "    num, chars = input().split()\n",
    "    num = int(num)\n",
    "    res = \"\"\n",
    "    \n",
    "    for char in chars:\n",
    "        res += num * char\n",
    "    n += 1\n",
    "    print(res)"
   ]
  },
  {
   "cell_type": "code",
   "execution_count": 10,
   "metadata": {},
   "outputs": [
    {
     "name": "stdout",
     "output_type": "stream",
     "text": [
      "B\n"
     ]
    }
   ],
   "source": [
    "# 7-5 - No. 1157\n",
    "string = input()\n",
    "string = string.lower()\n",
    "\n",
    "alphabet = \"abcdefghijklmnopqrstuvwxyz\"\n",
    "word_dict = {char: 0 for char in alphabet}\n",
    "\n",
    "for char in string:\n",
    "    word_dict[char] += 1\n",
    "\n",
    "sorting = sorted(word_dict.values())\n",
    "word_dict_sorted = {k: v for k, v in sorted(word_dict.items(), key=lambda item: item[1])}\n",
    "word_dict_sorted_keys = list(word_dict_sorted.keys())\n",
    "if sorting[-1] != 0 and sorting[-2] == 0:\n",
    "    print(max(word_dict).upper())\n",
    "else:\n",
    "    if sorting[-1] == sorting[-2]:\n",
    "        print(\"?\")\n",
    "    else:\n",
    "        print(word_dict_sorted_keys[-1].upper())"
   ]
  },
  {
   "cell_type": "code",
   "execution_count": 9,
   "metadata": {},
   "outputs": [
    {
     "name": "stdout",
     "output_type": "stream",
     "text": [
      "1\n"
     ]
    }
   ],
   "source": [
    "# 7-6 - No. 1152\n",
    "# 공백 한 개만 입력되었을 때를 처리해야 한다.\n",
    "# 차라리 공백을 없애자\n",
    "\n",
    "S = input().strip()\n",
    "print(len(S.split()))"
   ]
  },
  {
   "cell_type": "code",
   "execution_count": 16,
   "metadata": {},
   "outputs": [
    {
     "name": "stdout",
     "output_type": "stream",
     "text": [
      "938\n"
     ]
    }
   ],
   "source": [
    "# 7-7 - No. 2908\n",
    "a, b = input().split()\n",
    "a = int(a[-1: : -1])\n",
    "b = int(b[-1: : -1])\n",
    "\n",
    "if a - b > 0:\n",
    "    print(a)\n",
    "else:\n",
    "    print(b)\n"
   ]
  },
  {
   "cell_type": "code",
   "execution_count": null,
   "metadata": {},
   "outputs": [],
   "source": [
    "# 7-8 - No. 5622\n"
   ]
  }
 ],
 "metadata": {
  "kernelspec": {
   "display_name": "Python 3.9.13 ('base')",
   "language": "python",
   "name": "python3"
  },
  "language_info": {
   "codemirror_mode": {
    "name": "ipython",
    "version": 3
   },
   "file_extension": ".py",
   "mimetype": "text/x-python",
   "name": "python",
   "nbconvert_exporter": "python",
   "pygments_lexer": "ipython3",
   "version": "3.9.13"
  },
  "orig_nbformat": 4,
  "vscode": {
   "interpreter": {
    "hash": "40d3a090f54c6569ab1632332b64b2c03c39dcf918b08424e98f38b5ae0af88f"
   }
  }
 },
 "nbformat": 4,
 "nbformat_minor": 2
}
