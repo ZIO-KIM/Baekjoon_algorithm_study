{
 "cells": [
  {
   "cell_type": "code",
   "execution_count": 25,
   "metadata": {},
   "outputs": [
    {
     "name": "stdout",
     "output_type": "stream",
     "text": [
      "4\n",
      "21\n",
      "0\n"
     ]
    },
    {
     "ename": "ValueError",
     "evalue": "invalid literal for int() with base 10: ''",
     "output_type": "error",
     "traceback": [
      "\u001b[0;31m---------------------------------------------------------------------------\u001b[0m",
      "\u001b[0;31mValueError\u001b[0m                                Traceback (most recent call last)",
      "\u001b[0;32m/var/folders/ll/5xfdtzn54pv40zb87r5v6cxr0000gn/T/ipykernel_3455/848259162.py\u001b[0m in \u001b[0;36m<module>\u001b[0;34m\u001b[0m\n\u001b[1;32m     12\u001b[0m \u001b[0;34m\u001b[0m\u001b[0m\n\u001b[1;32m     13\u001b[0m \u001b[0;32mwhile\u001b[0m\u001b[0;34m(\u001b[0m\u001b[0;36m1\u001b[0m\u001b[0;34m)\u001b[0m\u001b[0;34m:\u001b[0m\u001b[0;34m\u001b[0m\u001b[0;34m\u001b[0m\u001b[0m\n\u001b[0;32m---> 14\u001b[0;31m     \u001b[0mn\u001b[0m \u001b[0;34m=\u001b[0m \u001b[0mint\u001b[0m\u001b[0;34m(\u001b[0m\u001b[0minput\u001b[0m\u001b[0;34m(\u001b[0m\u001b[0;34m)\u001b[0m\u001b[0;34m)\u001b[0m\u001b[0;34m\u001b[0m\u001b[0;34m\u001b[0m\u001b[0m\n\u001b[0m\u001b[1;32m     15\u001b[0m \u001b[0;34m\u001b[0m\u001b[0m\n\u001b[1;32m     16\u001b[0m     \u001b[0;32mif\u001b[0m \u001b[0mn\u001b[0m \u001b[0;34m==\u001b[0m \u001b[0;36m0\u001b[0m\u001b[0;34m:\u001b[0m\u001b[0;34m\u001b[0m\u001b[0;34m\u001b[0m\u001b[0m\n",
      "\u001b[0;31mValueError\u001b[0m: invalid literal for int() with base 10: ''"
     ]
    },
    {
     "ename": "",
     "evalue": "",
     "output_type": "error",
     "traceback": [
      "\u001b[1;31m현재 셀 또는 이전 셀에서 코드를 실행하는 동안 Kernel이 충돌했습니다. 셀의 코드를 검토하여 오류의 가능한 원인을 식별하세요. 자세한 내용을 보려면 <a href='https://aka.ms/vscodeJupyterKernelCrash'> 여기 </a> 를 클릭하세요. 자세한 내용은 Jupyter <a href='command:jupyter.viewOutput'>로그</a>를 참조하세요."
     ]
    }
   ],
   "source": [
    "# 8-5 4948. 베르트랑 공준\n",
    "\n",
    "import sys\n",
    "import math\n",
    "\n",
    "def primenumber(x):\n",
    "    for i in range(2, int(math.sqrt(x) + 1)):\t# 나눠 떨어지는 숫자가 있으면 소수x\n",
    "        if x % i == 0:\t\t\n",
    "            return False\n",
    "    \n",
    "    return True\t\n",
    "\n",
    "while(1): \n",
    "    n = int(input())\n",
    "\n",
    "    if n == 0: \n",
    "        quit()\n",
    "\n",
    "    total_count = 0\n",
    "\n",
    "    for i in range(n + 1, 2*n + 1):  \n",
    "        if primenumber(i) == True: \n",
    "            total_count += 1\n",
    "\n",
    "    print(total_count) # n~2n까지 다 돌고 난 후 print"
   ]
  },
  {
   "cell_type": "code",
   "execution_count": null,
   "metadata": {},
   "outputs": [],
   "source": [
    "# 8-5\n",
    "# initial commit, time out ver.\n",
    "\n",
    "import sys\n",
    "\n",
    "while(1): \n",
    "    n = int(input())\n",
    "\n",
    "    if n == 0: \n",
    "        sys.exit()\n",
    "\n",
    "    count = 0\n",
    "    total_count = 0\n",
    "\n",
    "    for i in range(n + 1, 2*n + 1):  \n",
    "        for j in range(1, i + 1): \n",
    "            if i % j == 0: \n",
    "                count += 1\n",
    "        if count == 2: # 나눠지는 숫자가 1과 자기 자신밖에 없을 경우\n",
    "            total_count += 1  # n~2n까지의 소수 개수 +1\n",
    "        count = 0 # 한 숫자 다 검사했으면 초기화\n",
    "    print(total_count) # n~2n까지 다 돌고 난 후 print"
   ]
  }
 ],
 "metadata": {
  "kernelspec": {
   "display_name": "Python 3.9.7 ('base')",
   "language": "python",
   "name": "python3"
  },
  "language_info": {
   "codemirror_mode": {
    "name": "ipython",
    "version": 3
   },
   "file_extension": ".py",
   "mimetype": "text/x-python",
   "name": "python",
   "nbconvert_exporter": "python",
   "pygments_lexer": "ipython3",
   "version": "3.9.7"
  },
  "orig_nbformat": 4,
  "vscode": {
   "interpreter": {
    "hash": "14a7cf40bfc4b4e571fa22138a725e6ee1c2a57223c645d16919f5c43de60f3f"
   }
  }
 },
 "nbformat": 4,
 "nbformat_minor": 2
}
