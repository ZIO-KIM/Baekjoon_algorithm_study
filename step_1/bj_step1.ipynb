{
 "cells": [
  {
   "cell_type": "code",
   "execution_count": null,
   "metadata": {},
   "outputs": [],
   "source": [
    "# 1-1\n",
    "\n",
    "print(\"Hello World!\")"
   ]
  },
  {
   "cell_type": "code",
   "execution_count": null,
   "metadata": {},
   "outputs": [],
   "source": [
    "# 1-2\n",
    "\n",
    "print(\"강한친구 대한육군\\n강한친구 대한육군\")"
   ]
  },
  {
   "cell_type": "code",
   "execution_count": null,
   "metadata": {},
   "outputs": [],
   "source": [
    "# 1-3\n",
    "\n",
    "a, b = map(int, input().split())\n",
    "print(a+b)"
   ]
  },
  {
   "cell_type": "code",
   "execution_count": null,
   "metadata": {},
   "outputs": [],
   "source": [
    "# 1-4\n",
    "\n",
    "a, b = map(int, input().split())\n",
    "print(a-b)"
   ]
  },
  {
   "cell_type": "code",
   "execution_count": null,
   "metadata": {},
   "outputs": [],
   "source": [
    "# 1-5\n",
    "\n",
    "a, b = map(int, input().split())\n",
    "print(a*b)"
   ]
  },
  {
   "cell_type": "code",
   "execution_count": null,
   "metadata": {},
   "outputs": [],
   "source": [
    "# 1-6\n",
    "\n",
    "a, b = map(float, input().split())\n",
    "print(a/b)"
   ]
  },
  {
   "cell_type": "code",
   "execution_count": null,
   "metadata": {},
   "outputs": [],
   "source": [
    "# 1-7\n",
    "\n",
    "a,b = map(int, input().split())\n",
    "print(a+b)\n",
    "print(a-b)\n",
    "print(a*b)\n",
    "print(a//b)\n",
    "print(a%b)"
   ]
  },
  {
   "cell_type": "code",
   "execution_count": null,
   "metadata": {},
   "outputs": [],
   "source": [
    "# 1-8\n",
    "\n",
    "id = input()\n",
    "print(id+'??!')"
   ]
  },
  {
   "cell_type": "code",
   "execution_count": null,
   "metadata": {},
   "outputs": [],
   "source": [
    "# 1-9\n",
    "\n",
    "y = input()\n",
    "y1 = int(y)\n",
    "print(y1-543)"
   ]
  },
  {
   "cell_type": "code",
   "execution_count": null,
   "metadata": {},
   "outputs": [],
   "source": [
    "# 1-10\n",
    "\n",
    "k, q, l, b, n, p=map(int, input().split())\n",
    "print(1-k, 1-q, 2-l, 2-b, 2-n, 8-p)"
   ]
  },
  {
   "cell_type": "code",
   "execution_count": null,
   "metadata": {},
   "outputs": [],
   "source": [
    "# 1-11\n",
    "\n",
    "a, b, c = map(int, input().split())\n",
    "\n",
    "q1 = (a+b) % c\n",
    "q2 = ((a%c) + (b%c)) % c\n",
    "q3 = (a*b) % c\n",
    "q4 = ((a%c) * (b%c)) % c\n",
    "\n",
    "print(q1, q2, q3, q4, sep='\\n')"
   ]
  },
  {
   "cell_type": "code",
   "execution_count": null,
   "metadata": {},
   "outputs": [],
   "source": [
    "# 1-12\n",
    "\n",
    "a = int(input())\n",
    "b = int(input())\n",
    "\n",
    "print(a * (b % 10))\n",
    "print(a * (b % 100 // 10))\n",
    "print(a * (b % 1000 // 100))\n",
    "print(a * b)"
   ]
  },
  {
   "cell_type": "code",
   "execution_count": null,
   "metadata": {},
   "outputs": [],
   "source": [
    "# 1-13\n",
    "\n",
    "print(\"\\    /\\ \", \" )  ( ')\", \"(  /  )\", \" \\(__)|\", sep='\\n')"
   ]
  },
  {
   "cell_type": "code",
   "execution_count": null,
   "metadata": {},
   "outputs": [],
   "source": [
    "# 1-14\n",
    "\n",
    "print('|\\_/|', '|q p|   /}', '( 0 )\"\"\"\\ ', '|\"^\"`    |', '||_/=\\\\\\__|', sep='\\n')"
   ]
  },
  {
   "cell_type": "code",
   "execution_count": null,
   "metadata": {},
   "outputs": [],
   "source": [
    "# 1- 15\n",
    "\n",
    "print('''         ,r'\"7\n",
    "r`-_   ,'  ,/\n",
    " \\. \". L_r'\n",
    "   `~\\/\n",
    "      |\n",
    "      |''')"
   ]
  }
 ],
 "metadata": {
  "kernelspec": {
   "display_name": "Python 3.9.13 ('base')",
   "language": "python",
   "name": "python3"
  },
  "language_info": {
   "codemirror_mode": {
    "name": "ipython",
    "version": 3
   },
   "file_extension": ".py",
   "mimetype": "text/x-python",
   "name": "python",
   "nbconvert_exporter": "python",
   "pygments_lexer": "ipython3",
   "version": "3.9.13"
  },
  "orig_nbformat": 4,
  "vscode": {
   "interpreter": {
    "hash": "8416a3f2a026e985bee17eceb7546469969f3a4d162bd0f7da6d9cc666a7e5f9"
   }
  }
 },
 "nbformat": 4,
 "nbformat_minor": 2
}
